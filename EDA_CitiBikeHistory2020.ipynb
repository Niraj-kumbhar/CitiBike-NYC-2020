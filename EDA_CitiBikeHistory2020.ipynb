{
  "nbformat": 4,
  "nbformat_minor": 0,
  "metadata": {
    "colab": {
      "provenance": [],
      "mount_file_id": "1t_-AE-nrtUYdKTIPzTAIphZSYCfJLaHh",
      "authorship_tag": "ABX9TyNa4uuHXoCPIoW68R4hjubr",
      "include_colab_link": true
    },
    "kernelspec": {
      "name": "python3",
      "display_name": "Python 3"
    },
    "language_info": {
      "name": "python"
    }
  },
  "cells": [
    {
      "cell_type": "markdown",
      "metadata": {
        "id": "view-in-github",
        "colab_type": "text"
      },
      "source": [
        "<a href=\"https://colab.research.google.com/github/Niraj-kumbhar/CitiBike-NYC-2020/blob/main/EDA_CitiBikeHistory2020.ipynb\" target=\"_parent\"><img src=\"https://colab.research.google.com/assets/colab-badge.svg\" alt=\"Open In Colab\"/></a>"
      ]
    },
    {
      "cell_type": "markdown",
      "source": [
        "# Citi Bike Data Analysis\n",
        "Data available on : [Citi Bike](https://s3.amazonaws.com/tripdata/index.html)\n",
        "\n",
        "Citi Bike is a privately owned public bicycle sharing system serving the New York City boroughs of the Bronx, Brooklyn, Manhattan, and Queens, as well as Jersey City, New Jersey, and Hoboken, New Jersey.\n",
        "\n",
        "You can find documentation related to data [here](https://ride.citibikenyc.com/system-data)\n",
        "\n",
        "I have taken data for year 2020 and will do some analysis\n"
      ],
      "metadata": {
        "id": "qbgsycEjuTIB"
      }
    },
    {
      "cell_type": "markdown",
      "source": [
        "## Loading required libraries"
      ],
      "metadata": {
        "id": "xtjiU5pnXJ7i"
      }
    },
    {
      "cell_type": "code",
      "source": [
        "#for handling data\n",
        "import pandas as pd\n",
        "import numpy as np\n",
        "\n",
        "# for vizualization\n",
        "import seaborn as sns\n",
        "sns.set()\n",
        "import matplotlib.ticker as ticker\n",
        "import matplotlib.pyplot as plt\n",
        "from  matplotlib.lines import Line2D\n",
        "%matplotlib inline\n",
        "import plotly.express as px\n",
        "\n",
        "#for handling date\n",
        "import datetime as dt\n",
        "import holidays\n",
        "\n",
        "#for supressing warnings\n",
        "import warnings\n",
        "warnings.filterwarnings(\"ignore\")"
      ],
      "metadata": {
        "id": "HHIoXqmFudC0"
      },
      "execution_count": null,
      "outputs": []
    },
    {
      "cell_type": "markdown",
      "source": [
        "## Data Loading and Review\n",
        "We have downloaded all datasets, we will start our analyses by laoding and reviewing first dataset i.e. January dataset."
      ],
      "metadata": {
        "id": "7dtS7K7J10Pk"
      }
    },
    {
      "cell_type": "code",
      "source": [
        "# fetching file info\n",
        "!ls -l drive/MyDrive/data/"
      ],
      "metadata": {
        "colab": {
          "base_uri": "https://localhost:8080/"
        },
        "id": "A512Boy51Myk",
        "outputId": "ab689083-25e3-4229-dcc3-743e4ec8d768"
      },
      "execution_count": null,
      "outputs": [
        {
          "output_type": "stream",
          "name": "stdout",
          "text": [
            "total 3618025\n",
            "-rw------- 1 root root 234843729 Feb  4  2020 202001-citibike-tripdata.csv\n",
            "-rw------- 1 root root 217131425 Mar 24  2020 202002-citibike-tripdata.csv\n",
            "-rw------- 1 root root 202642779 Apr 17  2020 202003-citibike-tripdata.csv\n",
            "-rw------- 1 root root 129734561 May 22  2020 202004-citibike-tripdata.csv\n",
            "-rw------- 1 root root 283682921 Jun  5  2020 202005-citibike-tripdata.csv\n",
            "-rw------- 1 root root 357642798 Jul  6  2020 202006-citibike-tripdata.csv\n",
            "-rw------- 1 root root 399626762 Aug 12  2020 202007-citibike-tripdata.csv\n",
            "-rw------- 1 root root 442365582 Sep  4  2020 202008-citibike-tripdata.csv\n",
            "-rw------- 1 root root 472984200 Oct 13  2020 202009-citibike-tripdata.csv\n",
            "-rw------- 1 root root 427237224 Nov  4  2020 202010-citibike-tripdata.csv\n",
            "-rw------- 1 root root 330107544 Dec  4  2020 202011-citibike-tripdata.csv\n",
            "-rw------- 1 root root 206762924 Jan  5  2021 202012-citibike-tripdata.csv\n",
            "-rw------- 1 root root     91163 Nov 30 12:01 ClimetData.csv\n"
          ]
        }
      ]
    },
    {
      "cell_type": "markdown",
      "source": [
        "### Review 1 Dataset"
      ],
      "metadata": {
        "id": "FMTR7EcE2Kux"
      }
    },
    {
      "cell_type": "code",
      "source": [
        "#load data for dataset1\n",
        "df1 = pd.read_csv('/content/drive/MyDrive/data/202001-citibike-tripdata.csv')"
      ],
      "metadata": {
        "id": "9msPXNRvxiP0"
      },
      "execution_count": null,
      "outputs": []
    },
    {
      "cell_type": "code",
      "source": [
        "#shape\n",
        "df1.shape"
      ],
      "metadata": {
        "colab": {
          "base_uri": "https://localhost:8080/"
        },
        "id": "_xTxPHFwxuVX",
        "outputId": "bb240fc3-828b-4cb9-e920-0045ab0df49b"
      },
      "execution_count": null,
      "outputs": [
        {
          "output_type": "execute_result",
          "data": {
            "text/plain": [
              "(1240596, 15)"
            ]
          },
          "metadata": {},
          "execution_count": 21
        }
      ]
    },
    {
      "cell_type": "code",
      "source": [
        "# memory types\n",
        "df1.info(memory_usage='deep')"
      ],
      "metadata": {
        "colab": {
          "base_uri": "https://localhost:8080/"
        },
        "id": "dQ2DknIRxzSQ",
        "outputId": "4c4640df-eeca-4cf8-ee60-2cdcac3b5068"
      },
      "execution_count": null,
      "outputs": [
        {
          "output_type": "stream",
          "name": "stdout",
          "text": [
            "<class 'pandas.core.frame.DataFrame'>\n",
            "RangeIndex: 1240596 entries, 0 to 1240595\n",
            "Data columns (total 15 columns):\n",
            " #   Column                   Non-Null Count    Dtype  \n",
            "---  ------                   --------------    -----  \n",
            " 0   tripduration             1240596 non-null  int64  \n",
            " 1   starttime                1240596 non-null  object \n",
            " 2   stoptime                 1240596 non-null  object \n",
            " 3   start station id         1240596 non-null  int64  \n",
            " 4   start station name       1240596 non-null  object \n",
            " 5   start station latitude   1240596 non-null  float64\n",
            " 6   start station longitude  1240596 non-null  float64\n",
            " 7   end station id           1240596 non-null  int64  \n",
            " 8   end station name         1240596 non-null  object \n",
            " 9   end station latitude     1240596 non-null  float64\n",
            " 10  end station longitude    1240596 non-null  float64\n",
            " 11  bikeid                   1240596 non-null  int64  \n",
            " 12  usertype                 1240596 non-null  object \n",
            " 13  birth year               1240596 non-null  int64  \n",
            " 14  gender                   1240596 non-null  int64  \n",
            "dtypes: float64(4), int64(6), object(5)\n",
            "memory usage: 546.1 MB\n"
          ]
        }
      ]
    },
    {
      "cell_type": "code",
      "source": [
        "df1.sample(5)"
      ],
      "metadata": {
        "colab": {
          "base_uri": "https://localhost:8080/",
          "height": 354
        },
        "id": "GmeXRUx-x6DD",
        "outputId": "8af784b7-4305-4529-e48a-d7f009d2f2d3"
      },
      "execution_count": null,
      "outputs": [
        {
          "output_type": "execute_result",
          "data": {
            "text/plain": [
              "        tripduration                 starttime                  stoptime  \\\n",
              "725279           132  2020-01-19 11:04:38.7760  2020-01-19 11:06:51.6210   \n",
              "562435          1321  2020-01-14 17:57:48.1010  2020-01-14 18:19:49.8970   \n",
              "621472           356  2020-01-15 19:47:30.0690  2020-01-15 19:53:26.9430   \n",
              "471786          2630  2020-01-12 18:11:51.6810  2020-01-12 18:55:42.1030   \n",
              "453395           360  2020-01-12 14:28:56.2540  2020-01-12 14:34:56.7850   \n",
              "\n",
              "        start station id          start station name  start station latitude  \\\n",
              "725279               229              Great Jones St               40.727434   \n",
              "562435               309         Murray St & West St               40.714979   \n",
              "621472              3785             W 42 St & 6 Ave               40.754920   \n",
              "471786              3315        Henry St & Degraw St               40.684751   \n",
              "453395              3242  Schermerhorn St & Court St               40.691029   \n",
              "\n",
              "        start station longitude  end station id         end station name  \\\n",
              "725279               -73.993790             293    Lafayette St & E 8 St   \n",
              "562435               -74.013012             466          W 25 St & 6 Ave   \n",
              "621472               -73.984550             440          E 45 St & 3 Ave   \n",
              "471786               -73.999173            3315     Henry St & Degraw St   \n",
              "453395               -73.991834             298  3 Ave & Schermerhorn St   \n",
              "\n",
              "        end station latitude  end station longitude  bikeid    usertype  \\\n",
              "725279             40.730207             -73.991026   19347  Subscriber   \n",
              "562435             40.743954             -73.991449   29413  Subscriber   \n",
              "621472             40.752554             -73.972826   39631  Subscriber   \n",
              "471786             40.684751             -73.999173   41933  Subscriber   \n",
              "453395             40.686832             -73.979677   30929  Subscriber   \n",
              "\n",
              "        birth year  gender  \n",
              "725279        1958       2  \n",
              "562435        1976       1  \n",
              "621472        1988       1  \n",
              "471786        1971       2  \n",
              "453395        1996       2  "
            ],
            "text/html": [
              "\n",
              "  <div id=\"df-496a1835-a720-4d3f-b226-5a11ece9e522\">\n",
              "    <div class=\"colab-df-container\">\n",
              "      <div>\n",
              "<style scoped>\n",
              "    .dataframe tbody tr th:only-of-type {\n",
              "        vertical-align: middle;\n",
              "    }\n",
              "\n",
              "    .dataframe tbody tr th {\n",
              "        vertical-align: top;\n",
              "    }\n",
              "\n",
              "    .dataframe thead th {\n",
              "        text-align: right;\n",
              "    }\n",
              "</style>\n",
              "<table border=\"1\" class=\"dataframe\">\n",
              "  <thead>\n",
              "    <tr style=\"text-align: right;\">\n",
              "      <th></th>\n",
              "      <th>tripduration</th>\n",
              "      <th>starttime</th>\n",
              "      <th>stoptime</th>\n",
              "      <th>start station id</th>\n",
              "      <th>start station name</th>\n",
              "      <th>start station latitude</th>\n",
              "      <th>start station longitude</th>\n",
              "      <th>end station id</th>\n",
              "      <th>end station name</th>\n",
              "      <th>end station latitude</th>\n",
              "      <th>end station longitude</th>\n",
              "      <th>bikeid</th>\n",
              "      <th>usertype</th>\n",
              "      <th>birth year</th>\n",
              "      <th>gender</th>\n",
              "    </tr>\n",
              "  </thead>\n",
              "  <tbody>\n",
              "    <tr>\n",
              "      <th>725279</th>\n",
              "      <td>132</td>\n",
              "      <td>2020-01-19 11:04:38.7760</td>\n",
              "      <td>2020-01-19 11:06:51.6210</td>\n",
              "      <td>229</td>\n",
              "      <td>Great Jones St</td>\n",
              "      <td>40.727434</td>\n",
              "      <td>-73.993790</td>\n",
              "      <td>293</td>\n",
              "      <td>Lafayette St &amp; E 8 St</td>\n",
              "      <td>40.730207</td>\n",
              "      <td>-73.991026</td>\n",
              "      <td>19347</td>\n",
              "      <td>Subscriber</td>\n",
              "      <td>1958</td>\n",
              "      <td>2</td>\n",
              "    </tr>\n",
              "    <tr>\n",
              "      <th>562435</th>\n",
              "      <td>1321</td>\n",
              "      <td>2020-01-14 17:57:48.1010</td>\n",
              "      <td>2020-01-14 18:19:49.8970</td>\n",
              "      <td>309</td>\n",
              "      <td>Murray St &amp; West St</td>\n",
              "      <td>40.714979</td>\n",
              "      <td>-74.013012</td>\n",
              "      <td>466</td>\n",
              "      <td>W 25 St &amp; 6 Ave</td>\n",
              "      <td>40.743954</td>\n",
              "      <td>-73.991449</td>\n",
              "      <td>29413</td>\n",
              "      <td>Subscriber</td>\n",
              "      <td>1976</td>\n",
              "      <td>1</td>\n",
              "    </tr>\n",
              "    <tr>\n",
              "      <th>621472</th>\n",
              "      <td>356</td>\n",
              "      <td>2020-01-15 19:47:30.0690</td>\n",
              "      <td>2020-01-15 19:53:26.9430</td>\n",
              "      <td>3785</td>\n",
              "      <td>W 42 St &amp; 6 Ave</td>\n",
              "      <td>40.754920</td>\n",
              "      <td>-73.984550</td>\n",
              "      <td>440</td>\n",
              "      <td>E 45 St &amp; 3 Ave</td>\n",
              "      <td>40.752554</td>\n",
              "      <td>-73.972826</td>\n",
              "      <td>39631</td>\n",
              "      <td>Subscriber</td>\n",
              "      <td>1988</td>\n",
              "      <td>1</td>\n",
              "    </tr>\n",
              "    <tr>\n",
              "      <th>471786</th>\n",
              "      <td>2630</td>\n",
              "      <td>2020-01-12 18:11:51.6810</td>\n",
              "      <td>2020-01-12 18:55:42.1030</td>\n",
              "      <td>3315</td>\n",
              "      <td>Henry St &amp; Degraw St</td>\n",
              "      <td>40.684751</td>\n",
              "      <td>-73.999173</td>\n",
              "      <td>3315</td>\n",
              "      <td>Henry St &amp; Degraw St</td>\n",
              "      <td>40.684751</td>\n",
              "      <td>-73.999173</td>\n",
              "      <td>41933</td>\n",
              "      <td>Subscriber</td>\n",
              "      <td>1971</td>\n",
              "      <td>2</td>\n",
              "    </tr>\n",
              "    <tr>\n",
              "      <th>453395</th>\n",
              "      <td>360</td>\n",
              "      <td>2020-01-12 14:28:56.2540</td>\n",
              "      <td>2020-01-12 14:34:56.7850</td>\n",
              "      <td>3242</td>\n",
              "      <td>Schermerhorn St &amp; Court St</td>\n",
              "      <td>40.691029</td>\n",
              "      <td>-73.991834</td>\n",
              "      <td>298</td>\n",
              "      <td>3 Ave &amp; Schermerhorn St</td>\n",
              "      <td>40.686832</td>\n",
              "      <td>-73.979677</td>\n",
              "      <td>30929</td>\n",
              "      <td>Subscriber</td>\n",
              "      <td>1996</td>\n",
              "      <td>2</td>\n",
              "    </tr>\n",
              "  </tbody>\n",
              "</table>\n",
              "</div>\n",
              "      <button class=\"colab-df-convert\" onclick=\"convertToInteractive('df-496a1835-a720-4d3f-b226-5a11ece9e522')\"\n",
              "              title=\"Convert this dataframe to an interactive table.\"\n",
              "              style=\"display:none;\">\n",
              "        \n",
              "  <svg xmlns=\"http://www.w3.org/2000/svg\" height=\"24px\"viewBox=\"0 0 24 24\"\n",
              "       width=\"24px\">\n",
              "    <path d=\"M0 0h24v24H0V0z\" fill=\"none\"/>\n",
              "    <path d=\"M18.56 5.44l.94 2.06.94-2.06 2.06-.94-2.06-.94-.94-2.06-.94 2.06-2.06.94zm-11 1L8.5 8.5l.94-2.06 2.06-.94-2.06-.94L8.5 2.5l-.94 2.06-2.06.94zm10 10l.94 2.06.94-2.06 2.06-.94-2.06-.94-.94-2.06-.94 2.06-2.06.94z\"/><path d=\"M17.41 7.96l-1.37-1.37c-.4-.4-.92-.59-1.43-.59-.52 0-1.04.2-1.43.59L10.3 9.45l-7.72 7.72c-.78.78-.78 2.05 0 2.83L4 21.41c.39.39.9.59 1.41.59.51 0 1.02-.2 1.41-.59l7.78-7.78 2.81-2.81c.8-.78.8-2.07 0-2.86zM5.41 20L4 18.59l7.72-7.72 1.47 1.35L5.41 20z\"/>\n",
              "  </svg>\n",
              "      </button>\n",
              "      \n",
              "  <style>\n",
              "    .colab-df-container {\n",
              "      display:flex;\n",
              "      flex-wrap:wrap;\n",
              "      gap: 12px;\n",
              "    }\n",
              "\n",
              "    .colab-df-convert {\n",
              "      background-color: #E8F0FE;\n",
              "      border: none;\n",
              "      border-radius: 50%;\n",
              "      cursor: pointer;\n",
              "      display: none;\n",
              "      fill: #1967D2;\n",
              "      height: 32px;\n",
              "      padding: 0 0 0 0;\n",
              "      width: 32px;\n",
              "    }\n",
              "\n",
              "    .colab-df-convert:hover {\n",
              "      background-color: #E2EBFA;\n",
              "      box-shadow: 0px 1px 2px rgba(60, 64, 67, 0.3), 0px 1px 3px 1px rgba(60, 64, 67, 0.15);\n",
              "      fill: #174EA6;\n",
              "    }\n",
              "\n",
              "    [theme=dark] .colab-df-convert {\n",
              "      background-color: #3B4455;\n",
              "      fill: #D2E3FC;\n",
              "    }\n",
              "\n",
              "    [theme=dark] .colab-df-convert:hover {\n",
              "      background-color: #434B5C;\n",
              "      box-shadow: 0px 1px 3px 1px rgba(0, 0, 0, 0.15);\n",
              "      filter: drop-shadow(0px 1px 2px rgba(0, 0, 0, 0.3));\n",
              "      fill: #FFFFFF;\n",
              "    }\n",
              "  </style>\n",
              "\n",
              "      <script>\n",
              "        const buttonEl =\n",
              "          document.querySelector('#df-496a1835-a720-4d3f-b226-5a11ece9e522 button.colab-df-convert');\n",
              "        buttonEl.style.display =\n",
              "          google.colab.kernel.accessAllowed ? 'block' : 'none';\n",
              "\n",
              "        async function convertToInteractive(key) {\n",
              "          const element = document.querySelector('#df-496a1835-a720-4d3f-b226-5a11ece9e522');\n",
              "          const dataTable =\n",
              "            await google.colab.kernel.invokeFunction('convertToInteractive',\n",
              "                                                     [key], {});\n",
              "          if (!dataTable) return;\n",
              "\n",
              "          const docLinkHtml = 'Like what you see? Visit the ' +\n",
              "            '<a target=\"_blank\" href=https://colab.research.google.com/notebooks/data_table.ipynb>data table notebook</a>'\n",
              "            + ' to learn more about interactive tables.';\n",
              "          element.innerHTML = '';\n",
              "          dataTable['output_type'] = 'display_data';\n",
              "          await google.colab.output.renderOutput(dataTable, element);\n",
              "          const docLink = document.createElement('div');\n",
              "          docLink.innerHTML = docLinkHtml;\n",
              "          element.appendChild(docLink);\n",
              "        }\n",
              "      </script>\n",
              "    </div>\n",
              "  </div>\n",
              "  "
            ]
          },
          "metadata": {},
          "execution_count": 23
        }
      ]
    },
    {
      "cell_type": "code",
      "source": [
        "# memory usage\n",
        "df1.memory_usage(deep=True)"
      ],
      "metadata": {
        "colab": {
          "base_uri": "https://localhost:8080/"
        },
        "id": "G5ewGPwd72sv",
        "outputId": "20ef222c-f717-4fe4-dded-bf532cb742a8"
      },
      "execution_count": null,
      "outputs": [
        {
          "output_type": "execute_result",
          "data": {
            "text/plain": [
              "Index                            128\n",
              "tripduration                 9924768\n",
              "starttime                  100488276\n",
              "stoptime                   100488276\n",
              "start station id             9924768\n",
              "start station name          94758393\n",
              "start station latitude       9924768\n",
              "start station longitude      9924768\n",
              "end station id               9924768\n",
              "end station name            94755043\n",
              "end station latitude         9924768\n",
              "end station longitude        9924768\n",
              "bikeid                       9924768\n",
              "usertype                    82930378\n",
              "birth year                   9924768\n",
              "gender                       9924768\n",
              "dtype: int64"
            ]
          },
          "metadata": {},
          "execution_count": 24
        }
      ]
    },
    {
      "cell_type": "code",
      "source": [
        "df1.usertype.value_counts()"
      ],
      "metadata": {
        "colab": {
          "base_uri": "https://localhost:8080/"
        },
        "id": "ksFHBwfDpNbH",
        "outputId": "90b3a241-4719-4867-efea-a1e17cccbd0e"
      },
      "execution_count": null,
      "outputs": [
        {
          "output_type": "execute_result",
          "data": {
            "text/plain": [
              "Subscriber    1145819\n",
              "Customer        94777\n",
              "Name: usertype, dtype: int64"
            ]
          },
          "metadata": {},
          "execution_count": 25
        }
      ]
    },
    {
      "cell_type": "markdown",
      "source": [
        "* As we can observe dataset have 15 features and 12 Lakhs rows for January.\n",
        "* As per my Observation, We have most of the columns in int64 datatype, We can change some of them to lower int type to reduce space.\n",
        "* we will check range of below columns to decide the change of datatype.<br>\n",
        "columns--> 'tripduration','start station id','end station id','bikeid','birth year','gender'\n",
        "* `starttime` and `stoptime` are actually datetime field, which we need to convert into datetime.\n",
        "* `usertype` is categorical field which we can convert into categorical.\n"
      ],
      "metadata": {
        "id": "lQozHJpf5K18"
      }
    },
    {
      "cell_type": "code",
      "source": [
        "df1[['tripduration','start station id','end station id','bikeid','birth year','gender']].describe().T"
      ],
      "metadata": {
        "colab": {
          "base_uri": "https://localhost:8080/",
          "height": 238
        },
        "id": "lhz3C28FyDm-",
        "outputId": "876a8362-a249-4ac3-8378-37706f23cd50"
      },
      "execution_count": null,
      "outputs": [
        {
          "output_type": "execute_result",
          "data": {
            "text/plain": [
              "                      count          mean          std      min      25%  \\\n",
              "tripduration      1240596.0    784.629907  6076.151358     61.0    323.0   \n",
              "start station id  1240596.0   1676.428163  1495.895287     72.0    385.0   \n",
              "end station id    1240596.0   1666.457341  1495.605116     72.0    383.0   \n",
              "bikeid            1240596.0  32675.808790  8057.178702  14530.0  28547.0   \n",
              "birth year        1240596.0   1979.776751    12.422314   1885.0   1970.0   \n",
              "gender            1240596.0      1.179057     0.488708      0.0      1.0   \n",
              "\n",
              "                      50%      75%        max  \n",
              "tripduration        529.0    894.0  1952746.0  \n",
              "start station id    513.0   3317.0     3918.0  \n",
              "end station id      509.0   3317.0     3918.0  \n",
              "bikeid            33902.0  39748.0    42091.0  \n",
              "birth year         1982.0   1990.0     2004.0  \n",
              "gender                1.0      1.0        2.0  "
            ],
            "text/html": [
              "\n",
              "  <div id=\"df-063ef007-ea84-4f7f-999e-07957bea5cef\">\n",
              "    <div class=\"colab-df-container\">\n",
              "      <div>\n",
              "<style scoped>\n",
              "    .dataframe tbody tr th:only-of-type {\n",
              "        vertical-align: middle;\n",
              "    }\n",
              "\n",
              "    .dataframe tbody tr th {\n",
              "        vertical-align: top;\n",
              "    }\n",
              "\n",
              "    .dataframe thead th {\n",
              "        text-align: right;\n",
              "    }\n",
              "</style>\n",
              "<table border=\"1\" class=\"dataframe\">\n",
              "  <thead>\n",
              "    <tr style=\"text-align: right;\">\n",
              "      <th></th>\n",
              "      <th>count</th>\n",
              "      <th>mean</th>\n",
              "      <th>std</th>\n",
              "      <th>min</th>\n",
              "      <th>25%</th>\n",
              "      <th>50%</th>\n",
              "      <th>75%</th>\n",
              "      <th>max</th>\n",
              "    </tr>\n",
              "  </thead>\n",
              "  <tbody>\n",
              "    <tr>\n",
              "      <th>tripduration</th>\n",
              "      <td>1240596.0</td>\n",
              "      <td>784.629907</td>\n",
              "      <td>6076.151358</td>\n",
              "      <td>61.0</td>\n",
              "      <td>323.0</td>\n",
              "      <td>529.0</td>\n",
              "      <td>894.0</td>\n",
              "      <td>1952746.0</td>\n",
              "    </tr>\n",
              "    <tr>\n",
              "      <th>start station id</th>\n",
              "      <td>1240596.0</td>\n",
              "      <td>1676.428163</td>\n",
              "      <td>1495.895287</td>\n",
              "      <td>72.0</td>\n",
              "      <td>385.0</td>\n",
              "      <td>513.0</td>\n",
              "      <td>3317.0</td>\n",
              "      <td>3918.0</td>\n",
              "    </tr>\n",
              "    <tr>\n",
              "      <th>end station id</th>\n",
              "      <td>1240596.0</td>\n",
              "      <td>1666.457341</td>\n",
              "      <td>1495.605116</td>\n",
              "      <td>72.0</td>\n",
              "      <td>383.0</td>\n",
              "      <td>509.0</td>\n",
              "      <td>3317.0</td>\n",
              "      <td>3918.0</td>\n",
              "    </tr>\n",
              "    <tr>\n",
              "      <th>bikeid</th>\n",
              "      <td>1240596.0</td>\n",
              "      <td>32675.808790</td>\n",
              "      <td>8057.178702</td>\n",
              "      <td>14530.0</td>\n",
              "      <td>28547.0</td>\n",
              "      <td>33902.0</td>\n",
              "      <td>39748.0</td>\n",
              "      <td>42091.0</td>\n",
              "    </tr>\n",
              "    <tr>\n",
              "      <th>birth year</th>\n",
              "      <td>1240596.0</td>\n",
              "      <td>1979.776751</td>\n",
              "      <td>12.422314</td>\n",
              "      <td>1885.0</td>\n",
              "      <td>1970.0</td>\n",
              "      <td>1982.0</td>\n",
              "      <td>1990.0</td>\n",
              "      <td>2004.0</td>\n",
              "    </tr>\n",
              "    <tr>\n",
              "      <th>gender</th>\n",
              "      <td>1240596.0</td>\n",
              "      <td>1.179057</td>\n",
              "      <td>0.488708</td>\n",
              "      <td>0.0</td>\n",
              "      <td>1.0</td>\n",
              "      <td>1.0</td>\n",
              "      <td>1.0</td>\n",
              "      <td>2.0</td>\n",
              "    </tr>\n",
              "  </tbody>\n",
              "</table>\n",
              "</div>\n",
              "      <button class=\"colab-df-convert\" onclick=\"convertToInteractive('df-063ef007-ea84-4f7f-999e-07957bea5cef')\"\n",
              "              title=\"Convert this dataframe to an interactive table.\"\n",
              "              style=\"display:none;\">\n",
              "        \n",
              "  <svg xmlns=\"http://www.w3.org/2000/svg\" height=\"24px\"viewBox=\"0 0 24 24\"\n",
              "       width=\"24px\">\n",
              "    <path d=\"M0 0h24v24H0V0z\" fill=\"none\"/>\n",
              "    <path d=\"M18.56 5.44l.94 2.06.94-2.06 2.06-.94-2.06-.94-.94-2.06-.94 2.06-2.06.94zm-11 1L8.5 8.5l.94-2.06 2.06-.94-2.06-.94L8.5 2.5l-.94 2.06-2.06.94zm10 10l.94 2.06.94-2.06 2.06-.94-2.06-.94-.94-2.06-.94 2.06-2.06.94z\"/><path d=\"M17.41 7.96l-1.37-1.37c-.4-.4-.92-.59-1.43-.59-.52 0-1.04.2-1.43.59L10.3 9.45l-7.72 7.72c-.78.78-.78 2.05 0 2.83L4 21.41c.39.39.9.59 1.41.59.51 0 1.02-.2 1.41-.59l7.78-7.78 2.81-2.81c.8-.78.8-2.07 0-2.86zM5.41 20L4 18.59l7.72-7.72 1.47 1.35L5.41 20z\"/>\n",
              "  </svg>\n",
              "      </button>\n",
              "      \n",
              "  <style>\n",
              "    .colab-df-container {\n",
              "      display:flex;\n",
              "      flex-wrap:wrap;\n",
              "      gap: 12px;\n",
              "    }\n",
              "\n",
              "    .colab-df-convert {\n",
              "      background-color: #E8F0FE;\n",
              "      border: none;\n",
              "      border-radius: 50%;\n",
              "      cursor: pointer;\n",
              "      display: none;\n",
              "      fill: #1967D2;\n",
              "      height: 32px;\n",
              "      padding: 0 0 0 0;\n",
              "      width: 32px;\n",
              "    }\n",
              "\n",
              "    .colab-df-convert:hover {\n",
              "      background-color: #E2EBFA;\n",
              "      box-shadow: 0px 1px 2px rgba(60, 64, 67, 0.3), 0px 1px 3px 1px rgba(60, 64, 67, 0.15);\n",
              "      fill: #174EA6;\n",
              "    }\n",
              "\n",
              "    [theme=dark] .colab-df-convert {\n",
              "      background-color: #3B4455;\n",
              "      fill: #D2E3FC;\n",
              "    }\n",
              "\n",
              "    [theme=dark] .colab-df-convert:hover {\n",
              "      background-color: #434B5C;\n",
              "      box-shadow: 0px 1px 3px 1px rgba(0, 0, 0, 0.15);\n",
              "      filter: drop-shadow(0px 1px 2px rgba(0, 0, 0, 0.3));\n",
              "      fill: #FFFFFF;\n",
              "    }\n",
              "  </style>\n",
              "\n",
              "      <script>\n",
              "        const buttonEl =\n",
              "          document.querySelector('#df-063ef007-ea84-4f7f-999e-07957bea5cef button.colab-df-convert');\n",
              "        buttonEl.style.display =\n",
              "          google.colab.kernel.accessAllowed ? 'block' : 'none';\n",
              "\n",
              "        async function convertToInteractive(key) {\n",
              "          const element = document.querySelector('#df-063ef007-ea84-4f7f-999e-07957bea5cef');\n",
              "          const dataTable =\n",
              "            await google.colab.kernel.invokeFunction('convertToInteractive',\n",
              "                                                     [key], {});\n",
              "          if (!dataTable) return;\n",
              "\n",
              "          const docLinkHtml = 'Like what you see? Visit the ' +\n",
              "            '<a target=\"_blank\" href=https://colab.research.google.com/notebooks/data_table.ipynb>data table notebook</a>'\n",
              "            + ' to learn more about interactive tables.';\n",
              "          element.innerHTML = '';\n",
              "          dataTable['output_type'] = 'display_data';\n",
              "          await google.colab.output.renderOutput(dataTable, element);\n",
              "          const docLink = document.createElement('div');\n",
              "          docLink.innerHTML = docLinkHtml;\n",
              "          element.appendChild(docLink);\n",
              "        }\n",
              "      </script>\n",
              "    </div>\n",
              "  </div>\n",
              "  "
            ]
          },
          "metadata": {},
          "execution_count": 26
        }
      ]
    },
    {
      "cell_type": "markdown",
      "source": [
        "* We can change `gender` column to _int8_ , as it ranges between 0 to 2.\n",
        "* We can change `birth year`, both `station id`s fields to _int16_\n",
        "\n",
        "#### Final Changes we need to do before importing data:\n",
        "* change `starttime` and `stoptime` to datetime datatype\n",
        "* change `usertype` to _categorical data_ instead of _object_\n",
        "* change `gender` to _int8_ and `birth year`, `start station id` and `end station id` to _int16_\n",
        "*  lattitude and longitude data will be useful when we will use Map based visualization, as of now we can drop this columns.\n",
        "\n",
        "Lets try this chanegs on df1, then we can compare the usage"
      ],
      "metadata": {
        "id": "oz2CiXUm6v1I"
      }
    },
    {
      "cell_type": "code",
      "source": [
        "df_temp = pd.read_csv('/content/drive/MyDrive/data/202001-citibike-tripdata.csv', usecols=['tripduration', 'starttime', 'stoptime', 'start station id', 'start station name', 'end station id', 'end station name', 'bikeid', 'usertype', 'birth year', 'gender'], \n",
        "                  dtype={'usertype':'category','gender':'int8','birth year':'int16','start station id':'int16','end station id':'int16'}, parse_dates=['starttime','stoptime'])"
      ],
      "metadata": {
        "id": "PZs5KhdLzS7Z"
      },
      "execution_count": null,
      "outputs": []
    },
    {
      "cell_type": "code",
      "source": [
        "df_temp.info(memory_usage='deep')"
      ],
      "metadata": {
        "colab": {
          "base_uri": "https://localhost:8080/"
        },
        "id": "T06avkclqY_W",
        "outputId": "6ea0404d-0c55-4362-9cb3-5b2955a5f643"
      },
      "execution_count": null,
      "outputs": [
        {
          "output_type": "stream",
          "name": "stdout",
          "text": [
            "<class 'pandas.core.frame.DataFrame'>\n",
            "RangeIndex: 1240596 entries, 0 to 1240595\n",
            "Data columns (total 11 columns):\n",
            " #   Column              Non-Null Count    Dtype         \n",
            "---  ------              --------------    -----         \n",
            " 0   tripduration        1240596 non-null  int64         \n",
            " 1   starttime           1240596 non-null  datetime64[ns]\n",
            " 2   stoptime            1240596 non-null  datetime64[ns]\n",
            " 3   start station id    1240596 non-null  int16         \n",
            " 4   start station name  1240596 non-null  object        \n",
            " 5   end station id      1240596 non-null  int16         \n",
            " 6   end station name    1240596 non-null  object        \n",
            " 7   bikeid              1240596 non-null  int64         \n",
            " 8   usertype            1240596 non-null  category      \n",
            " 9   birth year          1240596 non-null  int16         \n",
            " 10  gender              1240596 non-null  int8          \n",
            "dtypes: category(1), datetime64[ns](2), int16(3), int64(2), int8(1), object(2)\n",
            "memory usage: 228.1 MB\n"
          ]
        }
      ]
    },
    {
      "cell_type": "code",
      "source": [
        "# df_temp total memory usage\n",
        "\"{:.1f}\".format(df_temp.memory_usage(deep=True).sum()/(1024**2))"
      ],
      "metadata": {
        "colab": {
          "base_uri": "https://localhost:8080/",
          "height": 35
        },
        "id": "sbQOpe2E3kQ6",
        "outputId": "ba4e93d4-6f35-436e-d2ee-49b1c0fb4bcd"
      },
      "execution_count": null,
      "outputs": [
        {
          "output_type": "execute_result",
          "data": {
            "text/plain": [
              "'228.1'"
            ],
            "application/vnd.google.colaboratory.intrinsic+json": {
              "type": "string"
            }
          },
          "metadata": {},
          "execution_count": 29
        }
      ]
    },
    {
      "cell_type": "markdown",
      "source": [
        "Previously dataframe was 546.1 MB where after applying this filter and changes now memory usage is 228.1 MB, which 50% less than previous. Lets Apply same for all dataframe, but before that we need to check some values in all datasets"
      ],
      "metadata": {
        "id": "MvZjSHiozeCS"
      }
    },
    {
      "cell_type": "code",
      "source": [
        "print(df_temp[['start station id','end station id','bikeid']].agg([pd.Series.nunique,'min','max']).T)"
      ],
      "metadata": {
        "colab": {
          "base_uri": "https://localhost:8080/"
        },
        "id": "KfMl9kpkqagi",
        "outputId": "8583eee1-9e4d-4a47-ad93-2ec82067239d"
      },
      "execution_count": null,
      "outputs": [
        {
          "output_type": "stream",
          "name": "stdout",
          "text": [
            "                  nunique    min    max\n",
            "start station id      893     72   3918\n",
            "end station id        896     72   3918\n",
            "bikeid              13049  14530  42091\n"
          ]
        }
      ]
    },
    {
      "cell_type": "markdown",
      "source": [
        "### Loading all Datasets"
      ],
      "metadata": {
        "id": "tyoDfO5k2U0_"
      }
    },
    {
      "cell_type": "code",
      "source": [
        "!ls  drive/MyDrive/data/"
      ],
      "metadata": {
        "colab": {
          "base_uri": "https://localhost:8080/"
        },
        "id": "v4Uxu8vFyxA3",
        "outputId": "dc18414f-132c-43f5-ce4f-2fc2d9917327"
      },
      "execution_count": null,
      "outputs": [
        {
          "output_type": "stream",
          "name": "stdout",
          "text": [
            "202001-citibike-tripdata.csv  202008-citibike-tripdata.csv\n",
            "202002-citibike-tripdata.csv  202009-citibike-tripdata.csv\n",
            "202003-citibike-tripdata.csv  202010-citibike-tripdata.csv\n",
            "202004-citibike-tripdata.csv  202011-citibike-tripdata.csv\n",
            "202005-citibike-tripdata.csv  202012-citibike-tripdata.csv\n",
            "202006-citibike-tripdata.csv  ClimetData.csv\n",
            "202007-citibike-tripdata.csv\n"
          ]
        }
      ]
    },
    {
      "cell_type": "code",
      "source": [
        "#list of all files\n",
        "ds_list = ['202001-citibike-tripdata.csv','202007-citibike-tripdata.csv','202002-citibike-tripdata.csv','202008-citibike-tripdata.csv','202003-citibike-tripdata.csv','202009-citibike-tripdata.csv','202004-citibike-tripdata.csv','202010-citibike-tripdata.csv','202005-citibike-tripdata.csv','202011-citibike-tripdata.csv','202006-citibike-tripdata.csv','202012-citibike-tripdata.csv']"
      ],
      "metadata": {
        "id": "qkeSCvDoy6lO"
      },
      "execution_count": null,
      "outputs": []
    },
    {
      "cell_type": "code",
      "source": [
        "# copying and storing dataset 1, in data as base DF\n",
        "data = df_temp.copy(deep=True)"
      ],
      "metadata": {
        "id": "9cvKFlDo-iH0"
      },
      "execution_count": null,
      "outputs": []
    },
    {
      "cell_type": "code",
      "source": [
        "# loading all dataframe and appending data\n",
        "for i,ds in enumerate(ds_list[1:]):\n",
        "  df_ = pd.read_csv(f'/content/drive/MyDrive/data/{ds}', usecols=['tripduration', 'starttime', 'stoptime', 'start station id', 'start station name', 'end station id', 'end station name', 'bikeid', 'usertype', 'birth year', 'gender'], \n",
        "                  dtype={'usertype':'category','gender':'int8','birth year':'int16','start station id':'int16','end station id':'int16'}, parse_dates=['starttime','stoptime'])\n",
        "  print(f\"Dataset: {i+2}\")\n",
        "  print(\"Total Memory Usage: {:.1f}\".format(df_.memory_usage(deep=True).sum()/(1024**2)))\n",
        "  print(df_[['start station id','end station id','bikeid']].agg([pd.Series.nunique,'min','max']).T)\n",
        "  print(\"=\"*20+\"\\n\")\n",
        "  data = pd.concat([data,df_], ignore_index=True)"
      ],
      "metadata": {
        "colab": {
          "base_uri": "https://localhost:8080/"
        },
        "id": "4h-eESO_zFOh",
        "outputId": "ccc24da3-b9d3-4ca0-dae2-54e077c9e98c"
      },
      "execution_count": null,
      "outputs": [
        {
          "output_type": "stream",
          "name": "stdout",
          "text": [
            "Dataset: 2\n",
            "Total Memory Usage: 389.4\n",
            "                  nunique    min    max\n",
            "start station id      989     72   4064\n",
            "end station id       1007     72   4064\n",
            "bikeid              17075  14529  45650\n",
            "====================\n",
            "\n",
            "Dataset: 3\n",
            "Total Memory Usage: 210.9\n",
            "                  nunique    min    max\n",
            "start station id      890     72   3918\n",
            "end station id        894     72   3918\n",
            "bikeid              13218  14530  42643\n",
            "====================\n",
            "\n",
            "Dataset: 4\n",
            "Total Memory Usage: 431.1\n",
            "                  nunique    min    max\n",
            "start station id     1039     72   4124\n",
            "end station id       1059     72   4124\n",
            "bikeid              17835  14529  46840\n",
            "====================\n",
            "\n",
            "Dataset: 5\n",
            "Total Memory Usage: 196.9\n",
            "                  nunique    min    max\n",
            "start station id      889     72   3919\n",
            "end station id        899     72   3919\n",
            "bikeid              14882  14530  43878\n",
            "====================\n",
            "\n",
            "Dataset: 6\n",
            "Total Memory Usage: 460.3\n",
            "                  nunique    min    max\n",
            "start station id     1087     72   4202\n",
            "end station id       1112     72   4202\n",
            "bikeid              18283  14529  47855\n",
            "====================\n",
            "\n",
            "Dataset: 7\n",
            "Total Memory Usage: 126.2\n",
            "                  nunique    min    max\n",
            "start station id      887     72   3992\n",
            "end station id        891     72   3992\n",
            "bikeid              14780  14530  43912\n",
            "====================\n",
            "\n",
            "Dataset: 8\n",
            "Total Memory Usage: 415.9\n",
            "                  nunique    min    max\n",
            "start station id     1144     72   4230\n",
            "end station id       1163     72   4230\n",
            "bikeid              18472  14529  48703\n",
            "====================\n",
            "\n",
            "Dataset: 9\n",
            "Total Memory Usage: 276.3\n",
            "                  nunique    min    max\n",
            "start station id      923     72   4021\n",
            "end station id        934     72   4021\n",
            "bikeid              15003  14530  44057\n",
            "====================\n",
            "\n",
            "Dataset: 10\n",
            "Total Memory Usage: 321.2\n",
            "                  nunique    min    max\n",
            "start station id     1152     72   4249\n",
            "end station id       1161     72   4249\n",
            "bikeid              18993  14529  49932\n",
            "====================\n",
            "\n",
            "Dataset: 11\n",
            "Total Memory Usage: 348.7\n",
            "                  nunique    min    max\n",
            "start station id      958     72   4038\n",
            "end station id        970     72   4038\n",
            "bikeid              15849  14529  44542\n",
            "====================\n",
            "\n",
            "Dataset: 12\n",
            "Total Memory Usage: 201.0\n",
            "                  nunique    min    max\n",
            "start station id     1174     72   4332\n",
            "end station id       1184     72   4332\n",
            "bikeid              16841  14530  50107\n",
            "====================\n",
            "\n"
          ]
        }
      ]
    },
    {
      "cell_type": "markdown",
      "source": [
        "We successfully, merged datasets into **data** dataframe.\n",
        "\n",
        "### Data Review\n",
        "Now we will look into merged data. We can start with basic Analysis"
      ],
      "metadata": {
        "id": "e7I_DWxrCldq"
      }
    },
    {
      "cell_type": "code",
      "source": [
        "# shape of merged data\n",
        "data.shape"
      ],
      "metadata": {
        "colab": {
          "base_uri": "https://localhost:8080/"
        },
        "id": "Fja8JGqLCecd",
        "outputId": "0bbae121-e607-45b8-a015-a6cd44236425"
      },
      "execution_count": null,
      "outputs": [
        {
          "output_type": "execute_result",
          "data": {
            "text/plain": [
              "(19506857, 11)"
            ]
          },
          "metadata": {},
          "execution_count": 35
        }
      ]
    },
    {
      "cell_type": "code",
      "source": [
        "# data types\n",
        "data.info(memory_usage='deep')"
      ],
      "metadata": {
        "colab": {
          "base_uri": "https://localhost:8080/"
        },
        "id": "SatpfysGEDG7",
        "outputId": "a3337b8a-9080-44c2-d75d-4b8229668fad"
      },
      "execution_count": null,
      "outputs": [
        {
          "output_type": "stream",
          "name": "stdout",
          "text": [
            "<class 'pandas.core.frame.DataFrame'>\n",
            "RangeIndex: 19506857 entries, 0 to 19506856\n",
            "Data columns (total 11 columns):\n",
            " #   Column              Dtype         \n",
            "---  ------              -----         \n",
            " 0   tripduration        int64         \n",
            " 1   starttime           datetime64[ns]\n",
            " 2   stoptime            datetime64[ns]\n",
            " 3   start station id    int16         \n",
            " 4   start station name  object        \n",
            " 5   end station id      int16         \n",
            " 6   end station name    object        \n",
            " 7   bikeid              int64         \n",
            " 8   usertype            category      \n",
            " 9   birth year          int16         \n",
            " 10  gender              int8          \n",
            "dtypes: category(1), datetime64[ns](2), int16(3), int64(2), int8(1), object(2)\n",
            "memory usage: 3.5 GB\n"
          ]
        }
      ]
    },
    {
      "cell_type": "markdown",
      "source": [
        "Even after modifying dtypes new dataset is huge in size. <br>\n",
        "**Lets check for Missing values**"
      ],
      "metadata": {
        "id": "ggzkQufxEdHC"
      }
    },
    {
      "cell_type": "code",
      "source": [
        "data.isnull().sum()"
      ],
      "metadata": {
        "colab": {
          "base_uri": "https://localhost:8080/"
        },
        "id": "1-b7WHbTEJ9S",
        "outputId": "d90654f2-e4ef-4bf5-c3ab-e50ee7893c0a"
      },
      "execution_count": null,
      "outputs": [
        {
          "output_type": "execute_result",
          "data": {
            "text/plain": [
              "tripduration          0\n",
              "starttime             0\n",
              "stoptime              0\n",
              "start station id      0\n",
              "start station name    0\n",
              "end station id        0\n",
              "end station name      0\n",
              "bikeid                0\n",
              "usertype              0\n",
              "birth year            0\n",
              "gender                0\n",
              "dtype: int64"
            ]
          },
          "metadata": {},
          "execution_count": 37
        }
      ]
    },
    {
      "cell_type": "markdown",
      "source": [
        "Data dont have any null OR empty values. <br>\n",
        "Lets look into data now"
      ],
      "metadata": {
        "id": "y5Ph5n6xE6jr"
      }
    },
    {
      "cell_type": "code",
      "source": [
        "data.sample(10)  "
      ],
      "metadata": {
        "colab": {
          "base_uri": "https://localhost:8080/"
        },
        "id": "wQD8DDesE3T5",
        "outputId": "db409345-618c-4e18-d45a-78a55b939928"
      },
      "execution_count": null,
      "outputs": [
        {
          "output_type": "execute_result",
          "data": {
            "text/plain": [
              "          tripduration               starttime                stoptime  \\\n",
              "12877830           315 2020-10-24 13:45:14.771 2020-10-24 13:50:30.134   \n",
              "2136746           1602 2020-07-14 20:36:56.698 2020-07-14 21:03:39.306   \n",
              "2864755            917 2020-07-25 13:38:05.507 2020-07-25 13:53:23.205   \n",
              "413726             538 2020-01-11 17:28:52.680 2020-01-11 17:37:51.298   \n",
              "1795410            283 2020-07-09 17:44:08.898 2020-07-09 17:48:52.314   \n",
              "5420232            444 2020-08-13 20:05:11.794 2020-08-13 20:12:36.304   \n",
              "5219081            550 2020-08-10 20:26:39.547 2020-08-10 20:35:49.719   \n",
              "2683550            621 2020-07-22 16:15:51.132 2020-07-22 16:26:12.331   \n",
              "5627342           6939 2020-08-16 17:06:05.235 2020-08-16 19:01:45.214   \n",
              "6327912            245 2020-08-25 18:08:16.481 2020-08-25 18:12:22.092   \n",
              "\n",
              "          start station id        start station name  end station id  \\\n",
              "12877830              3578    Park Pl & Franklin Ave            3590   \n",
              "2136746               3718        E 11 St & Avenue B            3718   \n",
              "2864755                332                 Cherry St             460   \n",
              "413726                 403            E 2 St & 2 Ave             487   \n",
              "1795410                168           W 18 St & 6 Ave            3812   \n",
              "5420232                466           W 25 St & 6 Ave             285   \n",
              "5219081               3616      Steinway St & 28 Ave            3592   \n",
              "2683550                456     E 53 St & Madison Ave            3141   \n",
              "5627342                436  Hancock St & Bedford Ave             436   \n",
              "6327912                465        Broadway & W 41 St             529   \n",
              "\n",
              "                   end station name  bikeid    usertype  birth year  gender  \n",
              "12877830  Carroll St & Franklin Ave   37051  Subscriber        1982       1  \n",
              "2136746          E 11 St & Avenue B   33005  Subscriber        1992       2  \n",
              "2864755          S 4 St & Wythe Ave   40861  Subscriber        1982       1  \n",
              "413726          E 20 St & FDR Drive   41206  Subscriber        1971       2  \n",
              "1795410     University Pl & E 14 St   30517  Subscriber        1971       1  \n",
              "5420232          Broadway & E 14 St   40719    Customer        1990       2  \n",
              "5219081      Crescent St & Broadway   43368    Customer        1991       1  \n",
              "2683550             1 Ave & E 68 St   39624  Subscriber        1971       1  \n",
              "5627342    Hancock St & Bedford Ave   45238    Customer        1988       1  \n",
              "6327912             W 42 St & 8 Ave   43843  Subscriber        1961       2  "
            ],
            "text/html": [
              "\n",
              "  <div id=\"df-27b2321a-b32f-4861-8699-821b17661e82\">\n",
              "    <div class=\"colab-df-container\">\n",
              "      <div>\n",
              "<style scoped>\n",
              "    .dataframe tbody tr th:only-of-type {\n",
              "        vertical-align: middle;\n",
              "    }\n",
              "\n",
              "    .dataframe tbody tr th {\n",
              "        vertical-align: top;\n",
              "    }\n",
              "\n",
              "    .dataframe thead th {\n",
              "        text-align: right;\n",
              "    }\n",
              "</style>\n",
              "<table border=\"1\" class=\"dataframe\">\n",
              "  <thead>\n",
              "    <tr style=\"text-align: right;\">\n",
              "      <th></th>\n",
              "      <th>tripduration</th>\n",
              "      <th>starttime</th>\n",
              "      <th>stoptime</th>\n",
              "      <th>start station id</th>\n",
              "      <th>start station name</th>\n",
              "      <th>end station id</th>\n",
              "      <th>end station name</th>\n",
              "      <th>bikeid</th>\n",
              "      <th>usertype</th>\n",
              "      <th>birth year</th>\n",
              "      <th>gender</th>\n",
              "    </tr>\n",
              "  </thead>\n",
              "  <tbody>\n",
              "    <tr>\n",
              "      <th>12877830</th>\n",
              "      <td>315</td>\n",
              "      <td>2020-10-24 13:45:14.771</td>\n",
              "      <td>2020-10-24 13:50:30.134</td>\n",
              "      <td>3578</td>\n",
              "      <td>Park Pl &amp; Franklin Ave</td>\n",
              "      <td>3590</td>\n",
              "      <td>Carroll St &amp; Franklin Ave</td>\n",
              "      <td>37051</td>\n",
              "      <td>Subscriber</td>\n",
              "      <td>1982</td>\n",
              "      <td>1</td>\n",
              "    </tr>\n",
              "    <tr>\n",
              "      <th>2136746</th>\n",
              "      <td>1602</td>\n",
              "      <td>2020-07-14 20:36:56.698</td>\n",
              "      <td>2020-07-14 21:03:39.306</td>\n",
              "      <td>3718</td>\n",
              "      <td>E 11 St &amp; Avenue B</td>\n",
              "      <td>3718</td>\n",
              "      <td>E 11 St &amp; Avenue B</td>\n",
              "      <td>33005</td>\n",
              "      <td>Subscriber</td>\n",
              "      <td>1992</td>\n",
              "      <td>2</td>\n",
              "    </tr>\n",
              "    <tr>\n",
              "      <th>2864755</th>\n",
              "      <td>917</td>\n",
              "      <td>2020-07-25 13:38:05.507</td>\n",
              "      <td>2020-07-25 13:53:23.205</td>\n",
              "      <td>332</td>\n",
              "      <td>Cherry St</td>\n",
              "      <td>460</td>\n",
              "      <td>S 4 St &amp; Wythe Ave</td>\n",
              "      <td>40861</td>\n",
              "      <td>Subscriber</td>\n",
              "      <td>1982</td>\n",
              "      <td>1</td>\n",
              "    </tr>\n",
              "    <tr>\n",
              "      <th>413726</th>\n",
              "      <td>538</td>\n",
              "      <td>2020-01-11 17:28:52.680</td>\n",
              "      <td>2020-01-11 17:37:51.298</td>\n",
              "      <td>403</td>\n",
              "      <td>E 2 St &amp; 2 Ave</td>\n",
              "      <td>487</td>\n",
              "      <td>E 20 St &amp; FDR Drive</td>\n",
              "      <td>41206</td>\n",
              "      <td>Subscriber</td>\n",
              "      <td>1971</td>\n",
              "      <td>2</td>\n",
              "    </tr>\n",
              "    <tr>\n",
              "      <th>1795410</th>\n",
              "      <td>283</td>\n",
              "      <td>2020-07-09 17:44:08.898</td>\n",
              "      <td>2020-07-09 17:48:52.314</td>\n",
              "      <td>168</td>\n",
              "      <td>W 18 St &amp; 6 Ave</td>\n",
              "      <td>3812</td>\n",
              "      <td>University Pl &amp; E 14 St</td>\n",
              "      <td>30517</td>\n",
              "      <td>Subscriber</td>\n",
              "      <td>1971</td>\n",
              "      <td>1</td>\n",
              "    </tr>\n",
              "    <tr>\n",
              "      <th>5420232</th>\n",
              "      <td>444</td>\n",
              "      <td>2020-08-13 20:05:11.794</td>\n",
              "      <td>2020-08-13 20:12:36.304</td>\n",
              "      <td>466</td>\n",
              "      <td>W 25 St &amp; 6 Ave</td>\n",
              "      <td>285</td>\n",
              "      <td>Broadway &amp; E 14 St</td>\n",
              "      <td>40719</td>\n",
              "      <td>Customer</td>\n",
              "      <td>1990</td>\n",
              "      <td>2</td>\n",
              "    </tr>\n",
              "    <tr>\n",
              "      <th>5219081</th>\n",
              "      <td>550</td>\n",
              "      <td>2020-08-10 20:26:39.547</td>\n",
              "      <td>2020-08-10 20:35:49.719</td>\n",
              "      <td>3616</td>\n",
              "      <td>Steinway St &amp; 28 Ave</td>\n",
              "      <td>3592</td>\n",
              "      <td>Crescent St &amp; Broadway</td>\n",
              "      <td>43368</td>\n",
              "      <td>Customer</td>\n",
              "      <td>1991</td>\n",
              "      <td>1</td>\n",
              "    </tr>\n",
              "    <tr>\n",
              "      <th>2683550</th>\n",
              "      <td>621</td>\n",
              "      <td>2020-07-22 16:15:51.132</td>\n",
              "      <td>2020-07-22 16:26:12.331</td>\n",
              "      <td>456</td>\n",
              "      <td>E 53 St &amp; Madison Ave</td>\n",
              "      <td>3141</td>\n",
              "      <td>1 Ave &amp; E 68 St</td>\n",
              "      <td>39624</td>\n",
              "      <td>Subscriber</td>\n",
              "      <td>1971</td>\n",
              "      <td>1</td>\n",
              "    </tr>\n",
              "    <tr>\n",
              "      <th>5627342</th>\n",
              "      <td>6939</td>\n",
              "      <td>2020-08-16 17:06:05.235</td>\n",
              "      <td>2020-08-16 19:01:45.214</td>\n",
              "      <td>436</td>\n",
              "      <td>Hancock St &amp; Bedford Ave</td>\n",
              "      <td>436</td>\n",
              "      <td>Hancock St &amp; Bedford Ave</td>\n",
              "      <td>45238</td>\n",
              "      <td>Customer</td>\n",
              "      <td>1988</td>\n",
              "      <td>1</td>\n",
              "    </tr>\n",
              "    <tr>\n",
              "      <th>6327912</th>\n",
              "      <td>245</td>\n",
              "      <td>2020-08-25 18:08:16.481</td>\n",
              "      <td>2020-08-25 18:12:22.092</td>\n",
              "      <td>465</td>\n",
              "      <td>Broadway &amp; W 41 St</td>\n",
              "      <td>529</td>\n",
              "      <td>W 42 St &amp; 8 Ave</td>\n",
              "      <td>43843</td>\n",
              "      <td>Subscriber</td>\n",
              "      <td>1961</td>\n",
              "      <td>2</td>\n",
              "    </tr>\n",
              "  </tbody>\n",
              "</table>\n",
              "</div>\n",
              "      <button class=\"colab-df-convert\" onclick=\"convertToInteractive('df-27b2321a-b32f-4861-8699-821b17661e82')\"\n",
              "              title=\"Convert this dataframe to an interactive table.\"\n",
              "              style=\"display:none;\">\n",
              "        \n",
              "  <svg xmlns=\"http://www.w3.org/2000/svg\" height=\"24px\"viewBox=\"0 0 24 24\"\n",
              "       width=\"24px\">\n",
              "    <path d=\"M0 0h24v24H0V0z\" fill=\"none\"/>\n",
              "    <path d=\"M18.56 5.44l.94 2.06.94-2.06 2.06-.94-2.06-.94-.94-2.06-.94 2.06-2.06.94zm-11 1L8.5 8.5l.94-2.06 2.06-.94-2.06-.94L8.5 2.5l-.94 2.06-2.06.94zm10 10l.94 2.06.94-2.06 2.06-.94-2.06-.94-.94-2.06-.94 2.06-2.06.94z\"/><path d=\"M17.41 7.96l-1.37-1.37c-.4-.4-.92-.59-1.43-.59-.52 0-1.04.2-1.43.59L10.3 9.45l-7.72 7.72c-.78.78-.78 2.05 0 2.83L4 21.41c.39.39.9.59 1.41.59.51 0 1.02-.2 1.41-.59l7.78-7.78 2.81-2.81c.8-.78.8-2.07 0-2.86zM5.41 20L4 18.59l7.72-7.72 1.47 1.35L5.41 20z\"/>\n",
              "  </svg>\n",
              "      </button>\n",
              "      \n",
              "  <style>\n",
              "    .colab-df-container {\n",
              "      display:flex;\n",
              "      flex-wrap:wrap;\n",
              "      gap: 12px;\n",
              "    }\n",
              "\n",
              "    .colab-df-convert {\n",
              "      background-color: #E8F0FE;\n",
              "      border: none;\n",
              "      border-radius: 50%;\n",
              "      cursor: pointer;\n",
              "      display: none;\n",
              "      fill: #1967D2;\n",
              "      height: 32px;\n",
              "      padding: 0 0 0 0;\n",
              "      width: 32px;\n",
              "    }\n",
              "\n",
              "    .colab-df-convert:hover {\n",
              "      background-color: #E2EBFA;\n",
              "      box-shadow: 0px 1px 2px rgba(60, 64, 67, 0.3), 0px 1px 3px 1px rgba(60, 64, 67, 0.15);\n",
              "      fill: #174EA6;\n",
              "    }\n",
              "\n",
              "    [theme=dark] .colab-df-convert {\n",
              "      background-color: #3B4455;\n",
              "      fill: #D2E3FC;\n",
              "    }\n",
              "\n",
              "    [theme=dark] .colab-df-convert:hover {\n",
              "      background-color: #434B5C;\n",
              "      box-shadow: 0px 1px 3px 1px rgba(0, 0, 0, 0.15);\n",
              "      filter: drop-shadow(0px 1px 2px rgba(0, 0, 0, 0.3));\n",
              "      fill: #FFFFFF;\n",
              "    }\n",
              "  </style>\n",
              "\n",
              "      <script>\n",
              "        const buttonEl =\n",
              "          document.querySelector('#df-27b2321a-b32f-4861-8699-821b17661e82 button.colab-df-convert');\n",
              "        buttonEl.style.display =\n",
              "          google.colab.kernel.accessAllowed ? 'block' : 'none';\n",
              "\n",
              "        async function convertToInteractive(key) {\n",
              "          const element = document.querySelector('#df-27b2321a-b32f-4861-8699-821b17661e82');\n",
              "          const dataTable =\n",
              "            await google.colab.kernel.invokeFunction('convertToInteractive',\n",
              "                                                     [key], {});\n",
              "          if (!dataTable) return;\n",
              "\n",
              "          const docLinkHtml = 'Like what you see? Visit the ' +\n",
              "            '<a target=\"_blank\" href=https://colab.research.google.com/notebooks/data_table.ipynb>data table notebook</a>'\n",
              "            + ' to learn more about interactive tables.';\n",
              "          element.innerHTML = '';\n",
              "          dataTable['output_type'] = 'display_data';\n",
              "          await google.colab.output.renderOutput(dataTable, element);\n",
              "          const docLink = document.createElement('div');\n",
              "          docLink.innerHTML = docLinkHtml;\n",
              "          element.appendChild(docLink);\n",
              "        }\n",
              "      </script>\n",
              "    </div>\n",
              "  </div>\n",
              "  "
            ]
          },
          "metadata": {},
          "execution_count": 38
        }
      ]
    },
    {
      "cell_type": "markdown",
      "source": [
        "With reference of [ride.citibikenyc.com](https://ride.citibikenyc.com/system-data)<br>\n",
        "* `tripduration`: contain Trip duration in seconds\n",
        "* `gender`: contain 3 categories, 0 --> unknown, 1--> Male, 2--> Female\n",
        "* `usertype`: conatin 2 categories, Customer--> 1 day or 3 day pass customer, Subscriber--> Annual Member\n",
        "\n",
        "### Observations\n",
        "* We can convert `birth year` to `age`, And we will use year 2020 to calculate the age\n",
        "* We can also convert `tripduration` to minutes which will make more sense"
      ],
      "metadata": {
        "id": "yef306thFXDg"
      }
    },
    {
      "cell_type": "code",
      "source": [
        "df = data.copy()\n",
        "df['duration_min'] = df['tripduration']//60\n",
        "df['age'] = 2020 - data['birth year']"
      ],
      "metadata": {
        "id": "HKqMGYA9zrIb"
      },
      "execution_count": null,
      "outputs": []
    },
    {
      "cell_type": "markdown",
      "source": [
        "We can see we have successfully converted birth year into age with same std dev, but we can observe some outliers here. Max age is 147 which is wrong. <br>\n",
        "**Lets check Age column separately**"
      ],
      "metadata": {
        "id": "3PqGCb2hIpCM"
      }
    },
    {
      "cell_type": "code",
      "source": [
        "df_age = df[['age']]\n",
        "plt.figure(figsize=[10,7])\n",
        "sns.kdeplot(df_age['age'], shade=True);"
      ],
      "metadata": {
        "colab": {
          "base_uri": "https://localhost:8080/"
        },
        "id": "y5tHdXpwH1Q2",
        "outputId": "d1f7bef8-e0c3-47ee-fa13-c15f7ed0ef63"
      },
      "execution_count": null,
      "outputs": [
        {
          "output_type": "display_data",
          "data": {
            "text/plain": [
              "<Figure size 720x504 with 1 Axes>"
            ],
            "image/png": "[encoded data removed]"
          },
          "metadata": {
            "needs_background": "light"
          }
        }
      ]
    },
    {
      "cell_type": "code",
      "source": [
        "sns.boxplot(x=df_age['age'])"
      ],
      "metadata": {
        "colab": {
          "base_uri": "https://localhost:8080/"
        },
        "id": "IVos19H6JWCQ",
        "outputId": "a41d11d4-8335-4d85-8bcb-1fedf2336a8b"
      },
      "execution_count": null,
      "outputs": [
        {
          "output_type": "execute_result",
          "data": {
            "text/plain": [
              "<matplotlib.axes._subplots.AxesSubplot at 0x7ff5f0562c10>"
            ]
          },
          "metadata": {},
          "execution_count": 41
        },
        {
          "output_type": "display_data",
          "data": {
            "text/plain": [
              "<Figure size 432x288 with 1 Axes>"
            ],
            "image/png": "[encoded data removed]"
          },
          "metadata": {
            "needs_background": "light"
          }
        }
      ]
    },
    {
      "cell_type": "code",
      "source": [
        "len(df_age[df_age['age']>85])"
      ],
      "metadata": {
        "colab": {
          "base_uri": "https://localhost:8080/"
        },
        "id": "uRs2ZGj3UvZb",
        "outputId": "84529c5c-2c69-4792-d8d5-3d9159093e5c"
      },
      "execution_count": null,
      "outputs": [
        {
          "output_type": "execute_result",
          "data": {
            "text/plain": [
              "16027"
            ]
          },
          "metadata": {},
          "execution_count": 42
        }
      ]
    },
    {
      "cell_type": "markdown",
      "source": [
        "We can see there ~16K outliers present in our dataset\n",
        "\n",
        "## EDA\n"
      ],
      "metadata": {
        "id": "ku37GP8IVhZ_"
      }
    },
    {
      "cell_type": "markdown",
      "source": [
        "### How many trips are there in 2020? How many trips are there by Subscribers vs Customers?\n"
      ],
      "metadata": {
        "id": "b7JSbes_byyG"
      }
    },
    {
      "cell_type": "markdown",
      "source": [
        "#### Total trips in year 2020"
      ],
      "metadata": {
        "id": "VK3OHHiBmyU_"
      }
    },
    {
      "cell_type": "code",
      "source": [
        "df.iloc[:,0].count()"
      ],
      "metadata": {
        "colab": {
          "base_uri": "https://localhost:8080/"
        },
        "id": "b09-uvUEVAhh",
        "outputId": "650b18ed-061e-440b-9784-0eb4cb058260"
      },
      "execution_count": null,
      "outputs": [
        {
          "output_type": "execute_result",
          "data": {
            "text/plain": [
              "19506857"
            ]
          },
          "metadata": {},
          "execution_count": 65
        }
      ]
    },
    {
      "cell_type": "markdown",
      "source": [
        "#### Trips by Subscriber vs Customer"
      ],
      "metadata": {
        "id": "Y7STQM7hbbX2"
      }
    },
    {
      "cell_type": "code",
      "source": [
        "df_pie = df['usertype'].value_counts()\n",
        "df_pie"
      ],
      "metadata": {
        "colab": {
          "base_uri": "https://localhost:8080/"
        },
        "id": "aKBgCX29WFrm",
        "outputId": "e4c267b5-d206-49f7-cf7f-c50def60fc5b"
      },
      "execution_count": null,
      "outputs": [
        {
          "output_type": "execute_result",
          "data": {
            "text/plain": [
              "Subscriber    14955766\n",
              "Customer       4551091\n",
              "Name: usertype, dtype: int64"
            ]
          },
          "metadata": {},
          "execution_count": 66
        }
      ]
    },
    {
      "cell_type": "code",
      "source": [
        "plt.figure(figsize=[15,8])\n",
        "df_pie.plot(kind='pie', autopct='%1.2f%%')\n",
        "plt.title('Trips by Subscribers vs Customer');"
      ],
      "metadata": {
        "colab": {
          "base_uri": "https://localhost:8080/",
          "height": 482
        },
        "id": "XSOCuzYxX_Fh",
        "outputId": "f9989294-49fe-42be-e976-b4bc68e9820b"
      },
      "execution_count": null,
      "outputs": [
        {
          "output_type": "display_data",
          "data": {
            "text/plain": [
              "<Figure size 1080x576 with 1 Axes>"
            ],
            "image/png": "[encoded data removed]"
          },
          "metadata": {}
        }
      ]
    },
    {
      "cell_type": "markdown",
      "source": [
        "* We can see in year 2020, 77% users were Subscribers."
      ],
      "metadata": {
        "id": "ZDzi6k3M3qSX"
      }
    },
    {
      "cell_type": "markdown",
      "source": [
        "### Plotting daily number of trips throughout the year 2020"
      ],
      "metadata": {
        "id": "Ji0WY31Tik8N"
      }
    },
    {
      "cell_type": "code",
      "source": [
        "# lets take required data in new dataframe\n",
        "df_plot = df[['starttime', 'start station id']]"
      ],
      "metadata": {
        "id": "u1gX4y6ec4sM"
      },
      "execution_count": null,
      "outputs": []
    },
    {
      "cell_type": "code",
      "source": [
        "#groupping data with respect to date\n",
        "df_plot_count = df_plot[['starttime']].groupby(df_plot['starttime'].dt.date).count().rename(columns={'starttime':'trips'})\n",
        "df_plot_count.head()"
      ],
      "metadata": {
        "colab": {
          "base_uri": "https://localhost:8080/",
          "height": 238
        },
        "id": "vy97p7Nfene4",
        "outputId": "362a4639-a608-46e4-ae0b-4f19a9b738e1"
      },
      "execution_count": null,
      "outputs": [
        {
          "output_type": "execute_result",
          "data": {
            "text/plain": [
              "            trips\n",
              "starttime        \n",
              "2020-01-01  18114\n",
              "2020-01-02  41556\n",
              "2020-01-03  31873\n",
              "2020-01-04  29436\n",
              "2020-01-05  27589"
            ],
            "text/html": [
              "\n",
              "  <div id=\"df-1ea3404f-03f5-4600-b587-4fac44c84538\">\n",
              "    <div class=\"colab-df-container\">\n",
              "      <div>\n",
              "<style scoped>\n",
              "    .dataframe tbody tr th:only-of-type {\n",
              "        vertical-align: middle;\n",
              "    }\n",
              "\n",
              "    .dataframe tbody tr th {\n",
              "        vertical-align: top;\n",
              "    }\n",
              "\n",
              "    .dataframe thead th {\n",
              "        text-align: right;\n",
              "    }\n",
              "</style>\n",
              "<table border=\"1\" class=\"dataframe\">\n",
              "  <thead>\n",
              "    <tr style=\"text-align: right;\">\n",
              "      <th></th>\n",
              "      <th>trips</th>\n",
              "    </tr>\n",
              "    <tr>\n",
              "      <th>starttime</th>\n",
              "      <th></th>\n",
              "    </tr>\n",
              "  </thead>\n",
              "  <tbody>\n",
              "    <tr>\n",
              "      <th>2020-01-01</th>\n",
              "      <td>18114</td>\n",
              "    </tr>\n",
              "    <tr>\n",
              "      <th>2020-01-02</th>\n",
              "      <td>41556</td>\n",
              "    </tr>\n",
              "    <tr>\n",
              "      <th>2020-01-03</th>\n",
              "      <td>31873</td>\n",
              "    </tr>\n",
              "    <tr>\n",
              "      <th>2020-01-04</th>\n",
              "      <td>29436</td>\n",
              "    </tr>\n",
              "    <tr>\n",
              "      <th>2020-01-05</th>\n",
              "      <td>27589</td>\n",
              "    </tr>\n",
              "  </tbody>\n",
              "</table>\n",
              "</div>\n",
              "      <button class=\"colab-df-convert\" onclick=\"convertToInteractive('df-1ea3404f-03f5-4600-b587-4fac44c84538')\"\n",
              "              title=\"Convert this dataframe to an interactive table.\"\n",
              "              style=\"display:none;\">\n",
              "        \n",
              "  <svg xmlns=\"http://www.w3.org/2000/svg\" height=\"24px\"viewBox=\"0 0 24 24\"\n",
              "       width=\"24px\">\n",
              "    <path d=\"M0 0h24v24H0V0z\" fill=\"none\"/>\n",
              "    <path d=\"M18.56 5.44l.94 2.06.94-2.06 2.06-.94-2.06-.94-.94-2.06-.94 2.06-2.06.94zm-11 1L8.5 8.5l.94-2.06 2.06-.94-2.06-.94L8.5 2.5l-.94 2.06-2.06.94zm10 10l.94 2.06.94-2.06 2.06-.94-2.06-.94-.94-2.06-.94 2.06-2.06.94z\"/><path d=\"M17.41 7.96l-1.37-1.37c-.4-.4-.92-.59-1.43-.59-.52 0-1.04.2-1.43.59L10.3 9.45l-7.72 7.72c-.78.78-.78 2.05 0 2.83L4 21.41c.39.39.9.59 1.41.59.51 0 1.02-.2 1.41-.59l7.78-7.78 2.81-2.81c.8-.78.8-2.07 0-2.86zM5.41 20L4 18.59l7.72-7.72 1.47 1.35L5.41 20z\"/>\n",
              "  </svg>\n",
              "      </button>\n",
              "      \n",
              "  <style>\n",
              "    .colab-df-container {\n",
              "      display:flex;\n",
              "      flex-wrap:wrap;\n",
              "      gap: 12px;\n",
              "    }\n",
              "\n",
              "    .colab-df-convert {\n",
              "      background-color: #E8F0FE;\n",
              "      border: none;\n",
              "      border-radius: 50%;\n",
              "      cursor: pointer;\n",
              "      display: none;\n",
              "      fill: #1967D2;\n",
              "      height: 32px;\n",
              "      padding: 0 0 0 0;\n",
              "      width: 32px;\n",
              "    }\n",
              "\n",
              "    .colab-df-convert:hover {\n",
              "      background-color: #E2EBFA;\n",
              "      box-shadow: 0px 1px 2px rgba(60, 64, 67, 0.3), 0px 1px 3px 1px rgba(60, 64, 67, 0.15);\n",
              "      fill: #174EA6;\n",
              "    }\n",
              "\n",
              "    [theme=dark] .colab-df-convert {\n",
              "      background-color: #3B4455;\n",
              "      fill: #D2E3FC;\n",
              "    }\n",
              "\n",
              "    [theme=dark] .colab-df-convert:hover {\n",
              "      background-color: #434B5C;\n",
              "      box-shadow: 0px 1px 3px 1px rgba(0, 0, 0, 0.15);\n",
              "      filter: drop-shadow(0px 1px 2px rgba(0, 0, 0, 0.3));\n",
              "      fill: #FFFFFF;\n",
              "    }\n",
              "  </style>\n",
              "\n",
              "      <script>\n",
              "        const buttonEl =\n",
              "          document.querySelector('#df-1ea3404f-03f5-4600-b587-4fac44c84538 button.colab-df-convert');\n",
              "        buttonEl.style.display =\n",
              "          google.colab.kernel.accessAllowed ? 'block' : 'none';\n",
              "\n",
              "        async function convertToInteractive(key) {\n",
              "          const element = document.querySelector('#df-1ea3404f-03f5-4600-b587-4fac44c84538');\n",
              "          const dataTable =\n",
              "            await google.colab.kernel.invokeFunction('convertToInteractive',\n",
              "                                                     [key], {});\n",
              "          if (!dataTable) return;\n",
              "\n",
              "          const docLinkHtml = 'Like what you see? Visit the ' +\n",
              "            '<a target=\"_blank\" href=https://colab.research.google.com/notebooks/data_table.ipynb>data table notebook</a>'\n",
              "            + ' to learn more about interactive tables.';\n",
              "          element.innerHTML = '';\n",
              "          dataTable['output_type'] = 'display_data';\n",
              "          await google.colab.output.renderOutput(dataTable, element);\n",
              "          const docLink = document.createElement('div');\n",
              "          docLink.innerHTML = docLinkHtml;\n",
              "          element.appendChild(docLink);\n",
              "        }\n",
              "      </script>\n",
              "    </div>\n",
              "  </div>\n",
              "  "
            ]
          },
          "metadata": {},
          "execution_count": 44
        }
      ]
    },
    {
      "cell_type": "code",
      "source": [
        "# # Lets Plot this groupped data\n",
        "# df_plot_count.plot();\n",
        "# plt.rcParams[\"figure.figsize\"] = (40,10)\n",
        "# plt.title('Daily trips throughout year 2020');\n"
      ],
      "metadata": {
        "id": "KKUksvAffM9Q"
      },
      "execution_count": null,
      "outputs": []
    },
    {
      "cell_type": "code",
      "source": [
        "#for better understanding and more access to data\n",
        "# we will plot data using plotly\n",
        "fig = px.line(data_frame=df_plot_count ,x=df_plot_count.index, y=df_plot_count['trips'], title='Daily trips throughout year 2020')\n",
        "fig.show()"
      ],
      "metadata": {
        "id": "Te_Pdzb1qc8o",
        "colab": {
          "base_uri": "https://localhost:8080/",
          "height": 542
        },
        "outputId": "03ea6de2-00d5-4322-8553-4781aa9a7c06"
      },
      "execution_count": null,
      "outputs": [
        {
          "output_type": "display_data",
          "data": {
            "text/html": [
              "<html>\n",
              "<head><meta charset=\"utf-8\" /></head>\n",
              "<body>\n",
              "    <div>            <script src=\"https://cdnjs.cloudflare.com/ajax/libs/mathjax/2.7.5/MathJax.js?config=TeX-AMS-MML_SVG\"></script><script type=\"text/javascript\">if (window.MathJax) {MathJax.Hub.Config({SVG: {font: \"STIX-Web\"}});}</script>                <script type=\"text/javascript\">window.PlotlyConfig = {MathJaxConfig: 'local'};</script>\n",
              "        <script src=\"https://cdn.plot.ly/plotly-2.8.3.min.js\"></script>                <div id=\"ff3b11db-352f-4254-83b4-a25207d197fd\" class=\"plotly-graph-div\" style=\"height:525px; width:100%;\"></div>            <script type=\"text/javascript\">                                    window.PLOTLYENV=window.PLOTLYENV || {};                                    if (document.getElementById(\"ff3b11db-352f-4254-83b4-a25207d197fd\")) {                    Plotly.newPlot(                        \"ff3b11db-352f-4254-83b4-a25207d197fd\",                        [{\"hovertemplate\":\"starttime=%{x}<br>trips=%{y}<extra></extra>\",\"legendgroup\":\"\",\"line\":{\"color\":\"#636efa\",\"dash\":\"solid\"},\"marker\":{\"symbol\":\"circle\"},\"mode\":\"lines\",\"name\":\"\",\"orientation\":\"v\",\"showlegend\":false,\"x\":[\"2020-01-01\",\"2020-01-02\",\"2020-01-03\",\"2020-01-04\",\"2020-01-05\",\"2020-01-06\",\"2020-01-07\",\"2020-01-08\",\"2020-01-09\",\"2020-01-10\",\"2020-01-11\",\"2020-01-12\",\"2020-01-13\",\"2020-01-14\",\"2020-01-15\",\"2020-01-16\",\"2020-01-17\",\"2020-01-18\",\"2020-01-19\",\"2020-01-20\",\"2020-01-21\",\"2020-01-22\",\"2020-01-23\",\"2020-01-24\",\"2020-01-25\",\"2020-01-26\",\"2020-01-27\",\"2020-01-28\",\"2020-01-29\",\"2020-01-30\",\"2020-01-31\",\"2020-02-01\",\"2020-02-02\",\"2020-02-03\",\"2020-02-04\",\"2020-02-05\",\"2020-02-06\",\"2020-02-07\",\"2020-02-08\",\"2020-02-09\",\"2020-02-10\",\"2020-02-11\",\"2020-02-12\",\"2020-02-13\",\"2020-02-14\",\"2020-02-15\",\"2020-02-16\",\"2020-02-17\",\"2020-02-18\",\"2020-02-19\",\"2020-02-20\",\"2020-02-21\",\"2020-02-22\",\"2020-02-23\",\"2020-02-24\",\"2020-02-25\",\"2020-02-26\",\"2020-02-27\",\"2020-02-28\",\"2020-02-29\",\"2020-03-01\",\"2020-03-02\",\"2020-03-03\",\"2020-03-04\",\"2020-03-05\",\"2020-03-06\",\"2020-03-07\",\"2020-03-08\",\"2020-03-09\",\"2020-03-10\",\"2020-03-11\",\"2020-03-12\",\"2020-03-13\",\"2020-03-14\",\"2020-03-15\",\"2020-03-16\",\"2020-03-17\",\"2020-03-18\",\"2020-03-19\",\"2020-03-20\",\"2020-03-21\",\"2020-03-22\",\"2020-03-23\",\"2020-03-24\",\"2020-03-25\",\"2020-03-26\",\"2020-03-27\",\"2020-03-28\",\"2020-03-29\",\"2020-03-30\",\"2020-03-31\",\"2020-04-01\",\"2020-04-02\",\"2020-04-03\",\"2020-04-04\",\"2020-04-05\",\"2020-04-06\",\"2020-04-07\",\"2020-04-08\",\"2020-04-09\",\"2020-04-10\",\"2020-04-11\",\"2020-04-12\",\"2020-04-13\",\"2020-04-14\",\"2020-04-15\",\"2020-04-16\",\"2020-04-17\",\"2020-04-18\",\"2020-04-19\",\"2020-04-20\",\"2020-04-21\",\"2020-04-22\",\"2020-04-23\",\"2020-04-24\",\"2020-04-25\",\"2020-04-26\",\"2020-04-27\",\"2020-04-28\",\"2020-04-29\",\"2020-04-30\",\"2020-05-01\",\"2020-05-02\",\"2020-05-03\",\"2020-05-04\",\"2020-05-05\",\"2020-05-06\",\"2020-05-07\",\"2020-05-08\",\"2020-05-09\",\"2020-05-10\",\"2020-05-11\",\"2020-05-12\",\"2020-05-13\",\"2020-05-14\",\"2020-05-15\",\"2020-05-16\",\"2020-05-17\",\"2020-05-18\",\"2020-05-19\",\"2020-05-20\",\"2020-05-21\",\"2020-05-22\",\"2020-05-23\",\"2020-05-24\",\"2020-05-25\",\"2020-05-26\",\"2020-05-27\",\"2020-05-28\",\"2020-05-29\",\"2020-05-30\",\"2020-05-31\",\"2020-06-01\",\"2020-06-02\",\"2020-06-03\",\"2020-06-04\",\"2020-06-05\",\"2020-06-06\",\"2020-06-07\",\"2020-06-08\",\"2020-06-09\",\"2020-06-10\",\"2020-06-11\",\"2020-06-12\",\"2020-06-13\",\"2020-06-14\",\"2020-06-15\",\"2020-06-16\",\"2020-06-17\",\"2020-06-18\",\"2020-06-19\",\"2020-06-20\",\"2020-06-21\",\"2020-06-22\",\"2020-06-23\",\"2020-06-24\",\"2020-06-25\",\"2020-06-26\",\"2020-06-27\",\"2020-06-28\",\"2020-06-29\",\"2020-06-30\",\"2020-07-01\",\"2020-07-02\",\"2020-07-03\",\"2020-07-04\",\"2020-07-05\",\"2020-07-06\",\"2020-07-07\",\"2020-07-08\",\"2020-07-09\",\"2020-07-10\",\"2020-07-11\",\"2020-07-12\",\"2020-07-13\",\"2020-07-14\",\"2020-07-15\",\"2020-07-16\",\"2020-07-17\",\"2020-07-18\",\"2020-07-19\",\"2020-07-20\",\"2020-07-21\",\"2020-07-22\",\"2020-07-23\",\"2020-07-24\",\"2020-07-25\",\"2020-07-26\",\"2020-07-27\",\"2020-07-28\",\"2020-07-29\",\"2020-07-30\",\"2020-07-31\",\"2020-08-01\",\"2020-08-02\",\"2020-08-03\",\"2020-08-04\",\"2020-08-05\",\"2020-08-06\",\"2020-08-07\",\"2020-08-08\",\"2020-08-09\",\"2020-08-10\",\"2020-08-11\",\"2020-08-12\",\"2020-08-13\",\"2020-08-14\",\"2020-08-15\",\"2020-08-16\",\"2020-08-17\",\"2020-08-18\",\"2020-08-19\",\"2020-08-20\",\"2020-08-21\",\"2020-08-22\",\"2020-08-23\",\"2020-08-24\",\"2020-08-25\",\"2020-08-26\",\"2020-08-27\",\"2020-08-28\",\"2020-08-29\",\"2020-08-30\",\"2020-08-31\",\"2020-09-01\",\"2020-09-02\",\"2020-09-03\",\"2020-09-04\",\"2020-09-05\",\"2020-09-06\",\"2020-09-07\",\"2020-09-08\",\"2020-09-09\",\"2020-09-10\",\"2020-09-11\",\"2020-09-12\",\"2020-09-13\",\"2020-09-14\",\"2020-09-15\",\"2020-09-16\",\"2020-09-17\",\"2020-09-18\",\"2020-09-19\",\"2020-09-20\",\"2020-09-21\",\"2020-09-22\",\"2020-09-23\",\"2020-09-24\",\"2020-09-25\",\"2020-09-26\",\"2020-09-27\",\"2020-09-28\",\"2020-09-29\",\"2020-09-30\",\"2020-10-01\",\"2020-10-02\",\"2020-10-03\",\"2020-10-04\",\"2020-10-05\",\"2020-10-06\",\"2020-10-07\",\"2020-10-08\",\"2020-10-09\",\"2020-10-10\",\"2020-10-11\",\"2020-10-12\",\"2020-10-13\",\"2020-10-14\",\"2020-10-15\",\"2020-10-16\",\"2020-10-17\",\"2020-10-18\",\"2020-10-19\",\"2020-10-20\",\"2020-10-21\",\"2020-10-22\",\"2020-10-23\",\"2020-10-24\",\"2020-10-25\",\"2020-10-26\",\"2020-10-27\",\"2020-10-28\",\"2020-10-29\",\"2020-10-30\",\"2020-10-31\",\"2020-11-01\",\"2020-11-02\",\"2020-11-03\",\"2020-11-04\",\"2020-11-05\",\"2020-11-06\",\"2020-11-07\",\"2020-11-08\",\"2020-11-09\",\"2020-11-10\",\"2020-11-11\",\"2020-11-12\",\"2020-11-13\",\"2020-11-14\",\"2020-11-15\",\"2020-11-16\",\"2020-11-17\",\"2020-11-18\",\"2020-11-19\",\"2020-11-20\",\"2020-11-21\",\"2020-11-22\",\"2020-11-23\",\"2020-11-24\",\"2020-11-25\",\"2020-11-26\",\"2020-11-27\",\"2020-11-28\",\"2020-11-29\",\"2020-11-30\",\"2020-12-01\",\"2020-12-02\",\"2020-12-03\",\"2020-12-04\",\"2020-12-05\",\"2020-12-06\",\"2020-12-07\",\"2020-12-08\",\"2020-12-09\",\"2020-12-10\",\"2020-12-11\",\"2020-12-12\",\"2020-12-13\",\"2020-12-14\",\"2020-12-15\",\"2020-12-16\",\"2020-12-17\",\"2020-12-18\",\"2020-12-19\",\"2020-12-20\",\"2020-12-21\",\"2020-12-22\",\"2020-12-23\",\"2020-12-24\",\"2020-12-25\",\"2020-12-26\",\"2020-12-27\",\"2020-12-28\",\"2020-12-29\",\"2020-12-30\",\"2020-12-31\"],\"xaxis\":\"x\",\"y\":[18114,41556,31873,29436,27589,42738,46535,42400,39344,50800,56538,53121,49438,44144,54251,45247,34122,13301,25935,24230,37399,43415,48258,51334,17734,36121,46534,48816,47386,45603,47284,35542,28593,53522,52478,50544,32156,32643,32783,32635,26732,37789,49336,37413,36921,21598,27276,40946,44104,49313,42686,38686,39443,46544,56349,39568,45207,43411,43360,29252,31878,56946,49723,58670,58686,34135,39448,46994,68768,64277,61816,51332,43343,44239,36140,29481,24331,30496,20842,31327,31712,19891,3999,20863,12066,21996,26504,8871,9646,15041,14996,20363,19012,11309,28867,25755,24660,23646,20744,14192,16276,33142,31564,7797,25283,22188,19570,18893,15909,47049,21882,17050,23783,19125,12610,58898,9586,17795,39619,21653,14542,24945,72808,63731,32356,35078,17274,43677,17326,27747,54504,22729,35998,40592,41586,52903,80292,63553,39154,40934,45558,48560,47441,23012,72889,67876,53062,55071,46091,53356,87081,80706,52926,46471,28766,39659,33064,56263,80441,60847,61666,63108,43845,72497,89690,79731,57555,65295,63989,62094,79280,80792,72206,59788,67299,66784,69578,73638,59221,69104,61574,65102,63406,73394,59329,70988,64523,45976,67810,63321,76374,22777,66573,84290,69017,76968,78340,79248,69834,80408,66789,58285,70557,51988,65592,66790,87636,72734,62474,70368,77064,72109,70846,89044,70067,67219,44588,81812,79130,59956,90237,82767,68992,75292,66069,62427,83758,92784,38651,70358,81799,71467,81247,84814,87086,81801,71136,72067,88080,69313,78167,71287,92434,75665,76674,69998,71317,85339,89572,83006,83897,79236,84416,52907,94644,101462,84682,79263,84118,86977,87490,89018,89985,77666,72111,82861,90600,86938,93712,99262,87411,78056,59816,85791,89718,81001,95562,80662,75795,85634,81263,83990,87644,93919,75426,16405,51885,88404,91295,30689,88338,76910,73336,76195,84145,83848,86939,90596,61869,51135,78030,62847,19072,39546,66771,32600,50610,62112,65204,74725,82142,98467,86147,75799,84365,46257,40704,48657,75263,51003,57607,54480,44054,51425,68483,75233,46012,42599,53102,56843,30687,53108,53202,52557,23257,53067,47330,53146,40441,31809,40743,41591,41083,37053,51890,59906,53499,61081,25786,44793,26329,179,14964,16738,16340,31415,37256,40454,32606,11850,19791,23764,38784,33202,35705,26334],\"yaxis\":\"y\",\"type\":\"scatter\"}],                        {\"template\":{\"data\":{\"bar\":[{\"error_x\":{\"color\":\"#2a3f5f\"},\"error_y\":{\"color\":\"#2a3f5f\"},\"marker\":{\"line\":{\"color\":\"#E5ECF6\",\"width\":0.5},\"pattern\":{\"fillmode\":\"overlay\",\"size\":10,\"solidity\":0.2}},\"type\":\"bar\"}],\"barpolar\":[{\"marker\":{\"line\":{\"color\":\"#E5ECF6\",\"width\":0.5},\"pattern\":{\"fillmode\":\"overlay\",\"size\":10,\"solidity\":0.2}},\"type\":\"barpolar\"}],\"carpet\":[{\"aaxis\":{\"endlinecolor\":\"#2a3f5f\",\"gridcolor\":\"white\",\"linecolor\":\"white\",\"minorgridcolor\":\"white\",\"startlinecolor\":\"#2a3f5f\"},\"baxis\":{\"endlinecolor\":\"#2a3f5f\",\"gridcolor\":\"white\",\"linecolor\":\"white\",\"minorgridcolor\":\"white\",\"startlinecolor\":\"#2a3f5f\"},\"type\":\"carpet\"}],\"choropleth\":[{\"colorbar\":{\"outlinewidth\":0,\"ticks\":\"\"},\"type\":\"choropleth\"}],\"contour\":[{\"colorbar\":{\"outlinewidth\":0,\"ticks\":\"\"},\"colorscale\":[[0.0,\"#0d0887\"],[0.1111111111111111,\"#46039f\"],[0.2222222222222222,\"#7201a8\"],[0.3333333333333333,\"#9c179e\"],[0.4444444444444444,\"#bd3786\"],[0.5555555555555556,\"#d8576b\"],[0.6666666666666666,\"#ed7953\"],[0.7777777777777778,\"#fb9f3a\"],[0.8888888888888888,\"#fdca26\"],[1.0,\"#f0f921\"]],\"type\":\"contour\"}],\"contourcarpet\":[{\"colorbar\":{\"outlinewidth\":0,\"ticks\":\"\"},\"type\":\"contourcarpet\"}],\"heatmap\":[{\"colorbar\":{\"outlinewidth\":0,\"ticks\":\"\"},\"colorscale\":[[0.0,\"#0d0887\"],[0.1111111111111111,\"#46039f\"],[0.2222222222222222,\"#7201a8\"],[0.3333333333333333,\"#9c179e\"],[0.4444444444444444,\"#bd3786\"],[0.5555555555555556,\"#d8576b\"],[0.6666666666666666,\"#ed7953\"],[0.7777777777777778,\"#fb9f3a\"],[0.8888888888888888,\"#fdca26\"],[1.0,\"#f0f921\"]],\"type\":\"heatmap\"}],\"heatmapgl\":[{\"colorbar\":{\"outlinewidth\":0,\"ticks\":\"\"},\"colorscale\":[[0.0,\"#0d0887\"],[0.1111111111111111,\"#46039f\"],[0.2222222222222222,\"#7201a8\"],[0.3333333333333333,\"#9c179e\"],[0.4444444444444444,\"#bd3786\"],[0.5555555555555556,\"#d8576b\"],[0.6666666666666666,\"#ed7953\"],[0.7777777777777778,\"#fb9f3a\"],[0.8888888888888888,\"#fdca26\"],[1.0,\"#f0f921\"]],\"type\":\"heatmapgl\"}],\"histogram\":[{\"marker\":{\"pattern\":{\"fillmode\":\"overlay\",\"size\":10,\"solidity\":0.2}},\"type\":\"histogram\"}],\"histogram2d\":[{\"colorbar\":{\"outlinewidth\":0,\"ticks\":\"\"},\"colorscale\":[[0.0,\"#0d0887\"],[0.1111111111111111,\"#46039f\"],[0.2222222222222222,\"#7201a8\"],[0.3333333333333333,\"#9c179e\"],[0.4444444444444444,\"#bd3786\"],[0.5555555555555556,\"#d8576b\"],[0.6666666666666666,\"#ed7953\"],[0.7777777777777778,\"#fb9f3a\"],[0.8888888888888888,\"#fdca26\"],[1.0,\"#f0f921\"]],\"type\":\"histogram2d\"}],\"histogram2dcontour\":[{\"colorbar\":{\"outlinewidth\":0,\"ticks\":\"\"},\"colorscale\":[[0.0,\"#0d0887\"],[0.1111111111111111,\"#46039f\"],[0.2222222222222222,\"#7201a8\"],[0.3333333333333333,\"#9c179e\"],[0.4444444444444444,\"#bd3786\"],[0.5555555555555556,\"#d8576b\"],[0.6666666666666666,\"#ed7953\"],[0.7777777777777778,\"#fb9f3a\"],[0.8888888888888888,\"#fdca26\"],[1.0,\"#f0f921\"]],\"type\":\"histogram2dcontour\"}],\"mesh3d\":[{\"colorbar\":{\"outlinewidth\":0,\"ticks\":\"\"},\"type\":\"mesh3d\"}],\"parcoords\":[{\"line\":{\"colorbar\":{\"outlinewidth\":0,\"ticks\":\"\"}},\"type\":\"parcoords\"}],\"pie\":[{\"automargin\":true,\"type\":\"pie\"}],\"scatter\":[{\"marker\":{\"colorbar\":{\"outlinewidth\":0,\"ticks\":\"\"}},\"type\":\"scatter\"}],\"scatter3d\":[{\"line\":{\"colorbar\":{\"outlinewidth\":0,\"ticks\":\"\"}},\"marker\":{\"colorbar\":{\"outlinewidth\":0,\"ticks\":\"\"}},\"type\":\"scatter3d\"}],\"scattercarpet\":[{\"marker\":{\"colorbar\":{\"outlinewidth\":0,\"ticks\":\"\"}},\"type\":\"scattercarpet\"}],\"scattergeo\":[{\"marker\":{\"colorbar\":{\"outlinewidth\":0,\"ticks\":\"\"}},\"type\":\"scattergeo\"}],\"scattergl\":[{\"marker\":{\"colorbar\":{\"outlinewidth\":0,\"ticks\":\"\"}},\"type\":\"scattergl\"}],\"scattermapbox\":[{\"marker\":{\"colorbar\":{\"outlinewidth\":0,\"ticks\":\"\"}},\"type\":\"scattermapbox\"}],\"scatterpolar\":[{\"marker\":{\"colorbar\":{\"outlinewidth\":0,\"ticks\":\"\"}},\"type\":\"scatterpolar\"}],\"scatterpolargl\":[{\"marker\":{\"colorbar\":{\"outlinewidth\":0,\"ticks\":\"\"}},\"type\":\"scatterpolargl\"}],\"scatterternary\":[{\"marker\":{\"colorbar\":{\"outlinewidth\":0,\"ticks\":\"\"}},\"type\":\"scatterternary\"}],\"surface\":[{\"colorbar\":{\"outlinewidth\":0,\"ticks\":\"\"},\"colorscale\":[[0.0,\"#0d0887\"],[0.1111111111111111,\"#46039f\"],[0.2222222222222222,\"#7201a8\"],[0.3333333333333333,\"#9c179e\"],[0.4444444444444444,\"#bd3786\"],[0.5555555555555556,\"#d8576b\"],[0.6666666666666666,\"#ed7953\"],[0.7777777777777778,\"#fb9f3a\"],[0.8888888888888888,\"#fdca26\"],[1.0,\"#f0f921\"]],\"type\":\"surface\"}],\"table\":[{\"cells\":{\"fill\":{\"color\":\"#EBF0F8\"},\"line\":{\"color\":\"white\"}},\"header\":{\"fill\":{\"color\":\"#C8D4E3\"},\"line\":{\"color\":\"white\"}},\"type\":\"table\"}]},\"layout\":{\"annotationdefaults\":{\"arrowcolor\":\"#2a3f5f\",\"arrowhead\":0,\"arrowwidth\":1},\"autotypenumbers\":\"strict\",\"coloraxis\":{\"colorbar\":{\"outlinewidth\":0,\"ticks\":\"\"}},\"colorscale\":{\"diverging\":[[0,\"#8e0152\"],[0.1,\"#c51b7d\"],[0.2,\"#de77ae\"],[0.3,\"#f1b6da\"],[0.4,\"#fde0ef\"],[0.5,\"#f7f7f7\"],[0.6,\"#e6f5d0\"],[0.7,\"#b8e186\"],[0.8,\"#7fbc41\"],[0.9,\"#4d9221\"],[1,\"#276419\"]],\"sequential\":[[0.0,\"#0d0887\"],[0.1111111111111111,\"#46039f\"],[0.2222222222222222,\"#7201a8\"],[0.3333333333333333,\"#9c179e\"],[0.4444444444444444,\"#bd3786\"],[0.5555555555555556,\"#d8576b\"],[0.6666666666666666,\"#ed7953\"],[0.7777777777777778,\"#fb9f3a\"],[0.8888888888888888,\"#fdca26\"],[1.0,\"#f0f921\"]],\"sequentialminus\":[[0.0,\"#0d0887\"],[0.1111111111111111,\"#46039f\"],[0.2222222222222222,\"#7201a8\"],[0.3333333333333333,\"#9c179e\"],[0.4444444444444444,\"#bd3786\"],[0.5555555555555556,\"#d8576b\"],[0.6666666666666666,\"#ed7953\"],[0.7777777777777778,\"#fb9f3a\"],[0.8888888888888888,\"#fdca26\"],[1.0,\"#f0f921\"]]},\"colorway\":[\"#636efa\",\"#EF553B\",\"#00cc96\",\"#ab63fa\",\"#FFA15A\",\"#19d3f3\",\"#FF6692\",\"#B6E880\",\"#FF97FF\",\"#FECB52\"],\"font\":{\"color\":\"#2a3f5f\"},\"geo\":{\"bgcolor\":\"white\",\"lakecolor\":\"white\",\"landcolor\":\"#E5ECF6\",\"showlakes\":true,\"showland\":true,\"subunitcolor\":\"white\"},\"hoverlabel\":{\"align\":\"left\"},\"hovermode\":\"closest\",\"mapbox\":{\"style\":\"light\"},\"paper_bgcolor\":\"white\",\"plot_bgcolor\":\"#E5ECF6\",\"polar\":{\"angularaxis\":{\"gridcolor\":\"white\",\"linecolor\":\"white\",\"ticks\":\"\"},\"bgcolor\":\"#E5ECF6\",\"radialaxis\":{\"gridcolor\":\"white\",\"linecolor\":\"white\",\"ticks\":\"\"}},\"scene\":{\"xaxis\":{\"backgroundcolor\":\"#E5ECF6\",\"gridcolor\":\"white\",\"gridwidth\":2,\"linecolor\":\"white\",\"showbackground\":true,\"ticks\":\"\",\"zerolinecolor\":\"white\"},\"yaxis\":{\"backgroundcolor\":\"#E5ECF6\",\"gridcolor\":\"white\",\"gridwidth\":2,\"linecolor\":\"white\",\"showbackground\":true,\"ticks\":\"\",\"zerolinecolor\":\"white\"},\"zaxis\":{\"backgroundcolor\":\"#E5ECF6\",\"gridcolor\":\"white\",\"gridwidth\":2,\"linecolor\":\"white\",\"showbackground\":true,\"ticks\":\"\",\"zerolinecolor\":\"white\"}},\"shapedefaults\":{\"line\":{\"color\":\"#2a3f5f\"}},\"ternary\":{\"aaxis\":{\"gridcolor\":\"white\",\"linecolor\":\"white\",\"ticks\":\"\"},\"baxis\":{\"gridcolor\":\"white\",\"linecolor\":\"white\",\"ticks\":\"\"},\"bgcolor\":\"#E5ECF6\",\"caxis\":{\"gridcolor\":\"white\",\"linecolor\":\"white\",\"ticks\":\"\"}},\"title\":{\"x\":0.05},\"xaxis\":{\"automargin\":true,\"gridcolor\":\"white\",\"linecolor\":\"white\",\"ticks\":\"\",\"title\":{\"standoff\":15},\"zerolinecolor\":\"white\",\"zerolinewidth\":2},\"yaxis\":{\"automargin\":true,\"gridcolor\":\"white\",\"linecolor\":\"white\",\"ticks\":\"\",\"title\":{\"standoff\":15},\"zerolinecolor\":\"white\",\"zerolinewidth\":2}}},\"xaxis\":{\"anchor\":\"y\",\"domain\":[0.0,1.0],\"title\":{\"text\":\"starttime\"}},\"yaxis\":{\"anchor\":\"x\",\"domain\":[0.0,1.0],\"title\":{\"text\":\"trips\"}},\"legend\":{\"tracegroupgap\":0},\"title\":{\"text\":\"Daily trips throughout year 2020\"}},                        {\"responsive\": true}                    ).then(function(){\n",
              "                            \n",
              "var gd = document.getElementById('ff3b11db-352f-4254-83b4-a25207d197fd');\n",
              "var x = new MutationObserver(function (mutations, observer) {{\n",
              "        var display = window.getComputedStyle(gd).display;\n",
              "        if (!display || display === 'none') {{\n",
              "            console.log([gd, 'removed!']);\n",
              "            Plotly.purge(gd);\n",
              "            observer.disconnect();\n",
              "        }}\n",
              "}});\n",
              "\n",
              "// Listen for the removal of the full notebook cells\n",
              "var notebookContainer = gd.closest('#notebook-container');\n",
              "if (notebookContainer) {{\n",
              "    x.observe(notebookContainer, {childList: true});\n",
              "}}\n",
              "\n",
              "// Listen for the clearing of the current output cell\n",
              "var outputEl = gd.closest('.output');\n",
              "if (outputEl) {{\n",
              "    x.observe(outputEl, {childList: true});\n",
              "}}\n",
              "\n",
              "                        })                };                            </script>        </div>\n",
              "</body>\n",
              "</html>"
            ]
          },
          "metadata": {}
        }
      ]
    },
    {
      "cell_type": "markdown",
      "source": [
        "* We can observe downtrend in Mid March\n",
        "* Assuming this is effect of Covid-19 lockdown, but by the end of March, We can observe up trend in daily trips"
      ],
      "metadata": {
        "id": "laXAPx6U4oJO"
      }
    },
    {
      "cell_type": "markdown",
      "source": [
        "###  distribution of number of trips by the day of the week during the year 2020"
      ],
      "metadata": {
        "id": "3TWRBG429Bzm"
      }
    },
    {
      "cell_type": "code",
      "source": [
        "# we will use daily count data and add new weekday column\n",
        "df_weekdata = df_plot_count.reset_index().copy()\n",
        "df_weekdata['starttime'] = pd.to_datetime(df_weekdata['starttime'])\n",
        "#get day name \n",
        "df_weekdata['weekday'] = df_weekdata.starttime.dt.day_name()\n",
        "df_weekdata.head()"
      ],
      "metadata": {
        "id": "Ol4eew0K4nvx",
        "colab": {
          "base_uri": "https://localhost:8080/",
          "height": 206
        },
        "outputId": "8620116a-c259-4694-aa04-f9eb483f2278"
      },
      "execution_count": null,
      "outputs": [
        {
          "output_type": "execute_result",
          "data": {
            "text/plain": [
              "   starttime  trips    weekday\n",
              "0 2020-01-01  18114  Wednesday\n",
              "1 2020-01-02  41556   Thursday\n",
              "2 2020-01-03  31873     Friday\n",
              "3 2020-01-04  29436   Saturday\n",
              "4 2020-01-05  27589     Sunday"
            ],
            "text/html": [
              "\n",
              "  <div id=\"df-0c52cc1d-ae32-4a49-a198-a2f9d832410a\">\n",
              "    <div class=\"colab-df-container\">\n",
              "      <div>\n",
              "<style scoped>\n",
              "    .dataframe tbody tr th:only-of-type {\n",
              "        vertical-align: middle;\n",
              "    }\n",
              "\n",
              "    .dataframe tbody tr th {\n",
              "        vertical-align: top;\n",
              "    }\n",
              "\n",
              "    .dataframe thead th {\n",
              "        text-align: right;\n",
              "    }\n",
              "</style>\n",
              "<table border=\"1\" class=\"dataframe\">\n",
              "  <thead>\n",
              "    <tr style=\"text-align: right;\">\n",
              "      <th></th>\n",
              "      <th>starttime</th>\n",
              "      <th>trips</th>\n",
              "      <th>weekday</th>\n",
              "    </tr>\n",
              "  </thead>\n",
              "  <tbody>\n",
              "    <tr>\n",
              "      <th>0</th>\n",
              "      <td>2020-01-01</td>\n",
              "      <td>18114</td>\n",
              "      <td>Wednesday</td>\n",
              "    </tr>\n",
              "    <tr>\n",
              "      <th>1</th>\n",
              "      <td>2020-01-02</td>\n",
              "      <td>41556</td>\n",
              "      <td>Thursday</td>\n",
              "    </tr>\n",
              "    <tr>\n",
              "      <th>2</th>\n",
              "      <td>2020-01-03</td>\n",
              "      <td>31873</td>\n",
              "      <td>Friday</td>\n",
              "    </tr>\n",
              "    <tr>\n",
              "      <th>3</th>\n",
              "      <td>2020-01-04</td>\n",
              "      <td>29436</td>\n",
              "      <td>Saturday</td>\n",
              "    </tr>\n",
              "    <tr>\n",
              "      <th>4</th>\n",
              "      <td>2020-01-05</td>\n",
              "      <td>27589</td>\n",
              "      <td>Sunday</td>\n",
              "    </tr>\n",
              "  </tbody>\n",
              "</table>\n",
              "</div>\n",
              "      <button class=\"colab-df-convert\" onclick=\"convertToInteractive('df-0c52cc1d-ae32-4a49-a198-a2f9d832410a')\"\n",
              "              title=\"Convert this dataframe to an interactive table.\"\n",
              "              style=\"display:none;\">\n",
              "        \n",
              "  <svg xmlns=\"http://www.w3.org/2000/svg\" height=\"24px\"viewBox=\"0 0 24 24\"\n",
              "       width=\"24px\">\n",
              "    <path d=\"M0 0h24v24H0V0z\" fill=\"none\"/>\n",
              "    <path d=\"M18.56 5.44l.94 2.06.94-2.06 2.06-.94-2.06-.94-.94-2.06-.94 2.06-2.06.94zm-11 1L8.5 8.5l.94-2.06 2.06-.94-2.06-.94L8.5 2.5l-.94 2.06-2.06.94zm10 10l.94 2.06.94-2.06 2.06-.94-2.06-.94-.94-2.06-.94 2.06-2.06.94z\"/><path d=\"M17.41 7.96l-1.37-1.37c-.4-.4-.92-.59-1.43-.59-.52 0-1.04.2-1.43.59L10.3 9.45l-7.72 7.72c-.78.78-.78 2.05 0 2.83L4 21.41c.39.39.9.59 1.41.59.51 0 1.02-.2 1.41-.59l7.78-7.78 2.81-2.81c.8-.78.8-2.07 0-2.86zM5.41 20L4 18.59l7.72-7.72 1.47 1.35L5.41 20z\"/>\n",
              "  </svg>\n",
              "      </button>\n",
              "      \n",
              "  <style>\n",
              "    .colab-df-container {\n",
              "      display:flex;\n",
              "      flex-wrap:wrap;\n",
              "      gap: 12px;\n",
              "    }\n",
              "\n",
              "    .colab-df-convert {\n",
              "      background-color: #E8F0FE;\n",
              "      border: none;\n",
              "      border-radius: 50%;\n",
              "      cursor: pointer;\n",
              "      display: none;\n",
              "      fill: #1967D2;\n",
              "      height: 32px;\n",
              "      padding: 0 0 0 0;\n",
              "      width: 32px;\n",
              "    }\n",
              "\n",
              "    .colab-df-convert:hover {\n",
              "      background-color: #E2EBFA;\n",
              "      box-shadow: 0px 1px 2px rgba(60, 64, 67, 0.3), 0px 1px 3px 1px rgba(60, 64, 67, 0.15);\n",
              "      fill: #174EA6;\n",
              "    }\n",
              "\n",
              "    [theme=dark] .colab-df-convert {\n",
              "      background-color: #3B4455;\n",
              "      fill: #D2E3FC;\n",
              "    }\n",
              "\n",
              "    [theme=dark] .colab-df-convert:hover {\n",
              "      background-color: #434B5C;\n",
              "      box-shadow: 0px 1px 3px 1px rgba(0, 0, 0, 0.15);\n",
              "      filter: drop-shadow(0px 1px 2px rgba(0, 0, 0, 0.3));\n",
              "      fill: #FFFFFF;\n",
              "    }\n",
              "  </style>\n",
              "\n",
              "      <script>\n",
              "        const buttonEl =\n",
              "          document.querySelector('#df-0c52cc1d-ae32-4a49-a198-a2f9d832410a button.colab-df-convert');\n",
              "        buttonEl.style.display =\n",
              "          google.colab.kernel.accessAllowed ? 'block' : 'none';\n",
              "\n",
              "        async function convertToInteractive(key) {\n",
              "          const element = document.querySelector('#df-0c52cc1d-ae32-4a49-a198-a2f9d832410a');\n",
              "          const dataTable =\n",
              "            await google.colab.kernel.invokeFunction('convertToInteractive',\n",
              "                                                     [key], {});\n",
              "          if (!dataTable) return;\n",
              "\n",
              "          const docLinkHtml = 'Like what you see? Visit the ' +\n",
              "            '<a target=\"_blank\" href=https://colab.research.google.com/notebooks/data_table.ipynb>data table notebook</a>'\n",
              "            + ' to learn more about interactive tables.';\n",
              "          element.innerHTML = '';\n",
              "          dataTable['output_type'] = 'display_data';\n",
              "          await google.colab.output.renderOutput(dataTable, element);\n",
              "          const docLink = document.createElement('div');\n",
              "          docLink.innerHTML = docLinkHtml;\n",
              "          element.appendChild(docLink);\n",
              "        }\n",
              "      </script>\n",
              "    </div>\n",
              "  </div>\n",
              "  "
            ]
          },
          "metadata": {},
          "execution_count": 47
        }
      ]
    },
    {
      "cell_type": "code",
      "source": [
        "plt.figure(figsize=[15,8])\n",
        "plot=sns.boxplot(df_weekdata['weekday'],df_weekdata['trips'])\n",
        "plt.title('Distribution of Number of trips by Day of week for year 2020')\n",
        "plt.show();"
      ],
      "metadata": {
        "colab": {
          "base_uri": "https://localhost:8080/",
          "height": 518
        },
        "id": "dNgj5VNXoql2",
        "outputId": "ab286959-2d83-4e18-b632-1eb4e740081d"
      },
      "execution_count": null,
      "outputs": [
        {
          "output_type": "display_data",
          "data": {
            "text/plain": [
              "<Figure size 1080x576 with 1 Axes>"
            ],
            "image/png": "[encoded data removed]"
          },
          "metadata": {
            "needs_background": "light"
          }
        }
      ]
    },
    {
      "cell_type": "markdown",
      "source": [
        "From Above BoxPlot We can say:\n",
        "* __Thursday__ was having __lowest__ average number of trips in year 2020 and __Saturaday__ was having __highest__ average number of trips\n",
        "* __Saturday__ shows __largest variation__ throughout the year where __Wednesday__ shows __smallest variation__."
      ],
      "metadata": {
        "id": "i7RNxJyM-uyn"
      }
    },
    {
      "cell_type": "markdown",
      "source": [
        "### Number of trips on Holidays throughout the year 2020"
      ],
      "metadata": {
        "id": "bvfCigwak0C-"
      }
    },
    {
      "cell_type": "code",
      "source": [
        "# getting holdaiy dates\n",
        "holiday_list = [d for i,d in enumerate(df_weekdata[\"starttime\"]) if d in holidays.US()]"
      ],
      "metadata": {
        "id": "Ayfmnv5WoGSc"
      },
      "execution_count": null,
      "outputs": []
    },
    {
      "cell_type": "code",
      "source": [
        "# plotting normal line chart over Date\n",
        "sns.lineplot(data=df_weekdata, x='starttime',y='trips')\n",
        "plt.rcParams[\"figure.figsize\"] = (30,10)\n",
        "plt.title('Daily trips throughout year 2020');\n",
        "\n",
        "\n",
        "# Thanks to: https://stackoverflow.com/questions/35906717/marking-specific-dates-when-visualizing-a-time-series\n",
        "ax = plt.gca()\n",
        "label_list = [df_weekdata['starttime'] for i in (holiday_list)]\n",
        "\n",
        "for date_point in holiday_list:\n",
        "    plt.axvline(x=date_point, color='r')\n",
        "\n",
        "\n",
        "legend_elements = [Line2D([0], [0], color='b', lw=4, label='Trip Count'),\n",
        "                Line2D([0], [0], color='r', lw=4, label='Holiday')]\n",
        "plt.legend(handles=legend_elements)\n",
        "plt.show()"
      ],
      "metadata": {
        "colab": {
          "base_uri": "https://localhost:8080/",
          "height": 491
        },
        "id": "YeCce0O1llOU",
        "outputId": "d196edaf-472e-4106-aef9-bc03f53a79e4"
      },
      "execution_count": null,
      "outputs": [
        {
          "output_type": "display_data",
          "data": {
            "text/plain": [
              "<Figure size 2880x720 with 1 Axes>"
            ],
            "image/png": "[encoded data removed]"
          },
          "metadata": {
            "needs_background": "light"
          }
        }
      ]
    },
    {
      "cell_type": "markdown",
      "source": [
        "* We can see small downtrend on Holidays"
      ],
      "metadata": {
        "id": "Nx-EB-kwrnCj"
      }
    },
    {
      "cell_type": "markdown",
      "source": [
        "### Trip Time duration"
      ],
      "metadata": {
        "id": "EnaRXs9pB8MH"
      }
    },
    {
      "cell_type": "code",
      "source": [
        "# creating copy of dataframe with required features\n",
        "df_time = df[['starttime','duration_min','end station name']].copy()"
      ],
      "metadata": {
        "id": "70mUpy-1DS_v"
      },
      "execution_count": null,
      "outputs": []
    },
    {
      "cell_type": "code",
      "source": [
        "# kde Plot\n",
        "sns.kdeplot(data=df_time,x=\"duration_min\", shade=True);"
      ],
      "metadata": {
        "colab": {
          "base_uri": "https://localhost:8080/",
          "height": 296
        },
        "id": "ELHonilaDiL3",
        "outputId": "4f283d7b-2975-4835-886c-b56098ec5cd5"
      },
      "execution_count": null,
      "outputs": [
        {
          "output_type": "display_data",
          "data": {
            "text/plain": [
              "<Figure size 432x288 with 1 Axes>"
            ],
            "image/png": "[encoded data removed]"
          },
          "metadata": {
            "needs_background": "light"
          }
        }
      ]
    },
    {
      "cell_type": "markdown",
      "source": [
        " Distribution is highly right skewed, We will find upper limit to declare outliers\n",
        "\n",
        "***Assumptions :***<br>\n",
        "Looking at the distribution of Trip duration data, My assumptions are:\n",
        "* Maximum Trip duration in minute is 6000+ (100 Hours), which is clearly wrong\n",
        "* If we think logically trip duration greater than 45-60 min makes no sense, and this are clearly Outlier due to some issue.\n",
        "* We can assume issue is related to Trip ending functionality,There might be malfunction while ending trip, which is causing trip timer running.\n",
        "<br>\n",
        "<br>\n",
        "\n",
        "Lets Find upper bound to declare outliers using IQR"
      ],
      "metadata": {
        "id": "lLQvcQsJFDiV"
      }
    },
    {
      "cell_type": "code",
      "source": [
        "# find upper bound \n",
        "Q3 = np.quantile(df_time['duration_min'],0.75)\n",
        "Q1 = np.quantile(df_time['duration_min'],0.25)\n",
        "IQR = Q3-Q1\n",
        "print(f\"25th Percentile: {Q1}\")\n",
        "print(f\"75th Percentile: {Q3}\")\n",
        "print(f\"Median: {df_time['duration_min'].median()}\")\n",
        "print(f\"IQR value is {IQR}\")\n",
        "print(f\"Upper Limit is {Q3+1.5*IQR}\")\n",
        "print(f\"Lower Limit is {Q1-1.5*IQR}\")"
      ],
      "metadata": {
        "colab": {
          "base_uri": "https://localhost:8080/"
        },
        "id": "rHeraXbPHha_",
        "outputId": "9232ca31-655d-47c2-9c70-b1041a39c94b"
      },
      "execution_count": null,
      "outputs": [
        {
          "output_type": "stream",
          "name": "stdout",
          "text": [
            "25th Percentile: 7.0\n",
            "75th Percentile: 23.0\n",
            "Median: 13.0\n",
            "IQR value is 16.0\n",
            "Upper Limit is 47.0\n",
            "Lower Limit is -17.0\n"
          ]
        }
      ]
    },
    {
      "cell_type": "markdown",
      "source": [
        "Eventhough upper limit is __47__, We will consider __60__ as Upper limit, We will assume any thing upper than that is outlier which is caused by Malfunctions"
      ],
      "metadata": {
        "id": "1DJaM8iUWhUH"
      }
    },
    {
      "cell_type": "code",
      "source": [
        "temp = df_time[df_time['duration_min']<60]['duration_min']\n",
        "plt.figure(figsize=[10,7])\n",
        "sns.kdeplot(temp, shade=True)\n",
        "plt.title('Distribution of Trip Duration')"
      ],
      "metadata": {
        "colab": {
          "base_uri": "https://localhost:8080/",
          "height": 482
        },
        "id": "wB8KNvGnHKP6",
        "outputId": "93323aa0-c16f-46a7-fb95-ac05668b5841"
      },
      "execution_count": null,
      "outputs": [
        {
          "output_type": "execute_result",
          "data": {
            "text/plain": [
              "Text(0.5, 1.0, 'Distribution of Trip Duration')"
            ]
          },
          "metadata": {},
          "execution_count": 62
        },
        {
          "output_type": "display_data",
          "data": {
            "text/plain": [
              "<Figure size 720x504 with 1 Axes>"
            ],
            "image/png": "[encoded data removed]"
          },
          "metadata": {
            "needs_background": "light"
          }
        }
      ]
    },
    {
      "cell_type": "markdown",
      "source": [
        "* We can see majority of rides are for less time duration."
      ],
      "metadata": {
        "id": "aFV7pfaKl-zA"
      }
    },
    {
      "cell_type": "code",
      "source": [
        "# top 10 end station were we need to monitor for malfunction\n",
        "df_time_10 = df_time[df_time['duration_min']>60][['end station name']].value_counts().head(10)\n",
        "plt.figure(figsize=[10,7])\n",
        "df_time_10.sort_values(ascending=True).plot(kind='barh', colormap='rainbow')\n",
        "plt.title('Top 10 Station with issue of Malfunction')"
      ],
      "metadata": {
        "colab": {
          "base_uri": "https://localhost:8080/",
          "height": 465
        },
        "id": "_xLGzeWfFYCc",
        "outputId": "62b61911-baf0-4442-e10b-4f7d24eda3fa"
      },
      "execution_count": null,
      "outputs": [
        {
          "output_type": "execute_result",
          "data": {
            "text/plain": [
              "Text(0.5, 1.0, 'Top 10 Station with issue of Malfunction')"
            ]
          },
          "metadata": {},
          "execution_count": 69
        },
        {
          "output_type": "display_data",
          "data": {
            "text/plain": [
              "<Figure size 720x504 with 1 Axes>"
            ],
            "image/png": "[encoded data removed]"
          },
          "metadata": {
            "needs_background": "light"
          }
        }
      ]
    },
    {
      "cell_type": "markdown",
      "source": [
        "### Bike and Station Analysis"
      ],
      "metadata": {
        "id": "HG6JeJEmyOsr"
      }
    },
    {
      "cell_type": "code",
      "source": [
        "# creating copy of original dataset with required columns\n",
        "df_bkst = df[['bikeid','start station id', 'starttime', 'end station id', 'stoptime', 'duration_min']].copy()\n",
        "df_stations = df[['start station id','start station name']].copy().drop_duplicates(subset=['start station id','start station name']).reset_index(drop=True).rename(columns={'start station id':'station id','start station name':'station name'})"
      ],
      "metadata": {
        "id": "qDsVQBTyyA0K"
      },
      "execution_count": null,
      "outputs": []
    },
    {
      "cell_type": "code",
      "source": [
        "bikeuse_df = df_bkst.groupby(['bikeid'])[['duration_min']].agg(Trips=('duration_min','count'),Usage=('duration_min','sum')).reset_index()"
      ],
      "metadata": {
        "id": "gSClcPtDyqNQ"
      },
      "execution_count": null,
      "outputs": []
    },
    {
      "cell_type": "markdown",
      "source": [
        "__Most Popular Bikes by number of times used__"
      ],
      "metadata": {
        "id": "cxy24keoPozO"
      }
    },
    {
      "cell_type": "code",
      "source": [
        "bikeuse_df['bikeid'] = bikeuse_df['bikeid'].astype('str')\n",
        "bikeuse_df['bikeid'] = 'Bike '+ bikeuse_df['bikeid']"
      ],
      "metadata": {
        "id": "2iJt9OWqMaZs"
      },
      "execution_count": null,
      "outputs": []
    },
    {
      "cell_type": "code",
      "source": [
        "temp = bikeuse_df.nlargest(10, 'Trips').set_index('bikeid')\n",
        "plt.figure(figsize=[10,7])\n",
        "ax = sns.barplot(data=temp ,x='Trips' ,y=temp.index, palette=\"GnBu_d\", orient='h')\n",
        "plt.title('Most Popular Bikes by number of times used');"
      ],
      "metadata": {
        "colab": {
          "base_uri": "https://localhost:8080/",
          "height": 464
        },
        "id": "Mt37tVUqyrUJ",
        "outputId": "a1a4ec03-c4c3-4e09-8fad-f84fd07515f6"
      },
      "execution_count": null,
      "outputs": [
        {
          "output_type": "display_data",
          "data": {
            "text/plain": [
              "<Figure size 720x504 with 1 Axes>"
            ],
            "image/png": "[encoded data removed]"
          },
          "metadata": {
            "needs_background": "light"
          }
        }
      ]
    },
    {
      "cell_type": "markdown",
      "source": [
        "__Most Popular Bikes by number of minutes used__"
      ],
      "metadata": {
        "id": "FfdlP5h4PrTe"
      }
    },
    {
      "cell_type": "code",
      "source": [
        "temp = bikeuse_df.nlargest(10, 'Usage').set_index('bikeid')\n",
        "plt.figure(figsize=[10,7])\n",
        "ax = sns.barplot(data=temp ,x='Usage' ,y=temp.index, palette=\"flare\", orient='h')\n",
        "plt.title('Most Popular Bikes by number of Minutes used');"
      ],
      "metadata": {
        "colab": {
          "base_uri": "https://localhost:8080/",
          "height": 464
        },
        "id": "pDeuOYlqKMd5",
        "outputId": "e80faec1-9b41-416a-f44e-1cc080d39e5f"
      },
      "execution_count": null,
      "outputs": [
        {
          "output_type": "display_data",
          "data": {
            "text/plain": [
              "<Figure size 720x504 with 1 Axes>"
            ],
            "image/png": "[encoded data removed]"
          },
          "metadata": {
            "needs_background": "light"
          }
        }
      ]
    },
    {
      "cell_type": "markdown",
      "source": [
        "__Bike's Idle__<br>\n",
        "bike’s “idle time” at any station as the time spent at that station between two consecutive trips. \n",
        "<br>\n",
        "We will need bike's info, trip start and end time, start station and end station info."
      ],
      "metadata": {
        "id": "eduVn5_z3nU1"
      }
    },
    {
      "cell_type": "code",
      "source": [
        "df_trip = df[['bikeid','starttime','stoptime','start station id','end station id']].copy()\n",
        "# sorting data  with respect to bike starttime then endtime\n",
        "df_trip = df_trip.sort_values(['bikeid','starttime','stoptime'])\n",
        "df_trip.head()"
      ],
      "metadata": {
        "colab": {
          "base_uri": "https://localhost:8080/",
          "height": 206
        },
        "id": "y_9piG99cMwi",
        "outputId": "7e5fb6fe-cbde-45a6-c77d-e20bf1ff0d03"
      },
      "execution_count": null,
      "outputs": [
        {
          "output_type": "execute_result",
          "data": {
            "text/plain": [
              "          bikeid               starttime                stoptime  \\\n",
              "17349386   14529 2020-06-15 08:09:24.515 2020-06-15 08:27:41.751   \n",
              "17352731   14529 2020-06-15 09:28:06.218 2020-06-15 09:35:17.712   \n",
              "17353448   14529 2020-06-15 09:45:45.107 2020-06-15 09:57:42.830   \n",
              "17358852   14529 2020-06-15 12:06:48.352 2020-06-15 12:35:35.099   \n",
              "17363293   14529 2020-06-15 13:30:04.811 2020-06-15 14:50:07.471   \n",
              "\n",
              "          start station id  end station id  \n",
              "17349386               285             168  \n",
              "17352731               168             238  \n",
              "17353448               238             224  \n",
              "17358852               224            3783  \n",
              "17363293              3783             346  "
            ],
            "text/html": [
              "\n",
              "  <div id=\"df-e0c06fde-b696-4421-b71e-88247cc88e29\">\n",
              "    <div class=\"colab-df-container\">\n",
              "      <div>\n",
              "<style scoped>\n",
              "    .dataframe tbody tr th:only-of-type {\n",
              "        vertical-align: middle;\n",
              "    }\n",
              "\n",
              "    .dataframe tbody tr th {\n",
              "        vertical-align: top;\n",
              "    }\n",
              "\n",
              "    .dataframe thead th {\n",
              "        text-align: right;\n",
              "    }\n",
              "</style>\n",
              "<table border=\"1\" class=\"dataframe\">\n",
              "  <thead>\n",
              "    <tr style=\"text-align: right;\">\n",
              "      <th></th>\n",
              "      <th>bikeid</th>\n",
              "      <th>starttime</th>\n",
              "      <th>stoptime</th>\n",
              "      <th>start station id</th>\n",
              "      <th>end station id</th>\n",
              "    </tr>\n",
              "  </thead>\n",
              "  <tbody>\n",
              "    <tr>\n",
              "      <th>17349386</th>\n",
              "      <td>14529</td>\n",
              "      <td>2020-06-15 08:09:24.515</td>\n",
              "      <td>2020-06-15 08:27:41.751</td>\n",
              "      <td>285</td>\n",
              "      <td>168</td>\n",
              "    </tr>\n",
              "    <tr>\n",
              "      <th>17352731</th>\n",
              "      <td>14529</td>\n",
              "      <td>2020-06-15 09:28:06.218</td>\n",
              "      <td>2020-06-15 09:35:17.712</td>\n",
              "      <td>168</td>\n",
              "      <td>238</td>\n",
              "    </tr>\n",
              "    <tr>\n",
              "      <th>17353448</th>\n",
              "      <td>14529</td>\n",
              "      <td>2020-06-15 09:45:45.107</td>\n",
              "      <td>2020-06-15 09:57:42.830</td>\n",
              "      <td>238</td>\n",
              "      <td>224</td>\n",
              "    </tr>\n",
              "    <tr>\n",
              "      <th>17358852</th>\n",
              "      <td>14529</td>\n",
              "      <td>2020-06-15 12:06:48.352</td>\n",
              "      <td>2020-06-15 12:35:35.099</td>\n",
              "      <td>224</td>\n",
              "      <td>3783</td>\n",
              "    </tr>\n",
              "    <tr>\n",
              "      <th>17363293</th>\n",
              "      <td>14529</td>\n",
              "      <td>2020-06-15 13:30:04.811</td>\n",
              "      <td>2020-06-15 14:50:07.471</td>\n",
              "      <td>3783</td>\n",
              "      <td>346</td>\n",
              "    </tr>\n",
              "  </tbody>\n",
              "</table>\n",
              "</div>\n",
              "      <button class=\"colab-df-convert\" onclick=\"convertToInteractive('df-e0c06fde-b696-4421-b71e-88247cc88e29')\"\n",
              "              title=\"Convert this dataframe to an interactive table.\"\n",
              "              style=\"display:none;\">\n",
              "        \n",
              "  <svg xmlns=\"http://www.w3.org/2000/svg\" height=\"24px\"viewBox=\"0 0 24 24\"\n",
              "       width=\"24px\">\n",
              "    <path d=\"M0 0h24v24H0V0z\" fill=\"none\"/>\n",
              "    <path d=\"M18.56 5.44l.94 2.06.94-2.06 2.06-.94-2.06-.94-.94-2.06-.94 2.06-2.06.94zm-11 1L8.5 8.5l.94-2.06 2.06-.94-2.06-.94L8.5 2.5l-.94 2.06-2.06.94zm10 10l.94 2.06.94-2.06 2.06-.94-2.06-.94-.94-2.06-.94 2.06-2.06.94z\"/><path d=\"M17.41 7.96l-1.37-1.37c-.4-.4-.92-.59-1.43-.59-.52 0-1.04.2-1.43.59L10.3 9.45l-7.72 7.72c-.78.78-.78 2.05 0 2.83L4 21.41c.39.39.9.59 1.41.59.51 0 1.02-.2 1.41-.59l7.78-7.78 2.81-2.81c.8-.78.8-2.07 0-2.86zM5.41 20L4 18.59l7.72-7.72 1.47 1.35L5.41 20z\"/>\n",
              "  </svg>\n",
              "      </button>\n",
              "      \n",
              "  <style>\n",
              "    .colab-df-container {\n",
              "      display:flex;\n",
              "      flex-wrap:wrap;\n",
              "      gap: 12px;\n",
              "    }\n",
              "\n",
              "    .colab-df-convert {\n",
              "      background-color: #E8F0FE;\n",
              "      border: none;\n",
              "      border-radius: 50%;\n",
              "      cursor: pointer;\n",
              "      display: none;\n",
              "      fill: #1967D2;\n",
              "      height: 32px;\n",
              "      padding: 0 0 0 0;\n",
              "      width: 32px;\n",
              "    }\n",
              "\n",
              "    .colab-df-convert:hover {\n",
              "      background-color: #E2EBFA;\n",
              "      box-shadow: 0px 1px 2px rgba(60, 64, 67, 0.3), 0px 1px 3px 1px rgba(60, 64, 67, 0.15);\n",
              "      fill: #174EA6;\n",
              "    }\n",
              "\n",
              "    [theme=dark] .colab-df-convert {\n",
              "      background-color: #3B4455;\n",
              "      fill: #D2E3FC;\n",
              "    }\n",
              "\n",
              "    [theme=dark] .colab-df-convert:hover {\n",
              "      background-color: #434B5C;\n",
              "      box-shadow: 0px 1px 3px 1px rgba(0, 0, 0, 0.15);\n",
              "      filter: drop-shadow(0px 1px 2px rgba(0, 0, 0, 0.3));\n",
              "      fill: #FFFFFF;\n",
              "    }\n",
              "  </style>\n",
              "\n",
              "      <script>\n",
              "        const buttonEl =\n",
              "          document.querySelector('#df-e0c06fde-b696-4421-b71e-88247cc88e29 button.colab-df-convert');\n",
              "        buttonEl.style.display =\n",
              "          google.colab.kernel.accessAllowed ? 'block' : 'none';\n",
              "\n",
              "        async function convertToInteractive(key) {\n",
              "          const element = document.querySelector('#df-e0c06fde-b696-4421-b71e-88247cc88e29');\n",
              "          const dataTable =\n",
              "            await google.colab.kernel.invokeFunction('convertToInteractive',\n",
              "                                                     [key], {});\n",
              "          if (!dataTable) return;\n",
              "\n",
              "          const docLinkHtml = 'Like what you see? Visit the ' +\n",
              "            '<a target=\"_blank\" href=https://colab.research.google.com/notebooks/data_table.ipynb>data table notebook</a>'\n",
              "            + ' to learn more about interactive tables.';\n",
              "          element.innerHTML = '';\n",
              "          dataTable['output_type'] = 'display_data';\n",
              "          await google.colab.output.renderOutput(dataTable, element);\n",
              "          const docLink = document.createElement('div');\n",
              "          docLink.innerHTML = docLinkHtml;\n",
              "          element.appendChild(docLink);\n",
              "        }\n",
              "      </script>\n",
              "    </div>\n",
              "  </div>\n",
              "  "
            ]
          },
          "metadata": {},
          "execution_count": 30
        }
      ]
    },
    {
      "cell_type": "markdown",
      "source": [
        "* As data is sorted, wrt bike and time, We have same bike related data together and continuos\n",
        "* For calculating idletime, __previous end station__ and __next startstation__ must be same, so we can say bike was idle at station, We will check our assumption\n",
        "\n",
        "![image.png](data:image/png;base64,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)\n",
        "\n",
        "* We can see same pattern as per our assumption, after regroupping data, but we will also look for cases where both station are not same."
      ],
      "metadata": {
        "id": "UVQhVHd_5S7q"
      }
    },
    {
      "cell_type": "code",
      "source": [
        "# we will look into trips where current start staion is not same as previous end station\n",
        "df_missMatch = df_trip[df_trip['start station id'] != df_trip['end station id'].shift(1)].copy()\n",
        "print(f\"Number of trips where station is mismatched: {df_missMatch.shape[0]}\")\n",
        "df_missMatch.head()"
      ],
      "metadata": {
        "colab": {
          "base_uri": "https://localhost:8080/",
          "height": 225
        },
        "id": "4VEtgZJS5e4P",
        "outputId": "cc35308d-e13e-4404-ac89-d289364d7ffc"
      },
      "execution_count": null,
      "outputs": [
        {
          "output_type": "stream",
          "name": "stdout",
          "text": [
            "Number of trips where station is mismatched: 406114\n"
          ]
        },
        {
          "output_type": "execute_result",
          "data": {
            "text/plain": [
              "          bikeid               starttime                stoptime  \\\n",
              "17349386   14529 2020-06-15 08:09:24.515 2020-06-15 08:27:41.751   \n",
              "17668904   14529 2020-06-19 21:58:09.187 2020-06-19 22:05:57.540   \n",
              "2518246    14529 2020-07-19 22:34:28.578 2020-07-19 22:49:45.897   \n",
              "3304412    14529 2020-07-31 15:49:57.856 2020-07-31 16:08:32.157   \n",
              "5131272    14529 2020-08-09 17:28:56.379 2020-08-09 17:59:38.164   \n",
              "\n",
              "          start station id  end station id  \n",
              "17349386               285             168  \n",
              "17668904              3295            3374  \n",
              "2518246               3584            3423  \n",
              "3304412               3302            3935  \n",
              "5131272               3375             509  "
            ],
            "text/html": [
              "\n",
              "  <div id=\"df-566c0340-8ccf-4796-9b09-d093723d3afb\">\n",
              "    <div class=\"colab-df-container\">\n",
              "      <div>\n",
              "<style scoped>\n",
              "    .dataframe tbody tr th:only-of-type {\n",
              "        vertical-align: middle;\n",
              "    }\n",
              "\n",
              "    .dataframe tbody tr th {\n",
              "        vertical-align: top;\n",
              "    }\n",
              "\n",
              "    .dataframe thead th {\n",
              "        text-align: right;\n",
              "    }\n",
              "</style>\n",
              "<table border=\"1\" class=\"dataframe\">\n",
              "  <thead>\n",
              "    <tr style=\"text-align: right;\">\n",
              "      <th></th>\n",
              "      <th>bikeid</th>\n",
              "      <th>starttime</th>\n",
              "      <th>stoptime</th>\n",
              "      <th>start station id</th>\n",
              "      <th>end station id</th>\n",
              "    </tr>\n",
              "  </thead>\n",
              "  <tbody>\n",
              "    <tr>\n",
              "      <th>17349386</th>\n",
              "      <td>14529</td>\n",
              "      <td>2020-06-15 08:09:24.515</td>\n",
              "      <td>2020-06-15 08:27:41.751</td>\n",
              "      <td>285</td>\n",
              "      <td>168</td>\n",
              "    </tr>\n",
              "    <tr>\n",
              "      <th>17668904</th>\n",
              "      <td>14529</td>\n",
              "      <td>2020-06-19 21:58:09.187</td>\n",
              "      <td>2020-06-19 22:05:57.540</td>\n",
              "      <td>3295</td>\n",
              "      <td>3374</td>\n",
              "    </tr>\n",
              "    <tr>\n",
              "      <th>2518246</th>\n",
              "      <td>14529</td>\n",
              "      <td>2020-07-19 22:34:28.578</td>\n",
              "      <td>2020-07-19 22:49:45.897</td>\n",
              "      <td>3584</td>\n",
              "      <td>3423</td>\n",
              "    </tr>\n",
              "    <tr>\n",
              "      <th>3304412</th>\n",
              "      <td>14529</td>\n",
              "      <td>2020-07-31 15:49:57.856</td>\n",
              "      <td>2020-07-31 16:08:32.157</td>\n",
              "      <td>3302</td>\n",
              "      <td>3935</td>\n",
              "    </tr>\n",
              "    <tr>\n",
              "      <th>5131272</th>\n",
              "      <td>14529</td>\n",
              "      <td>2020-08-09 17:28:56.379</td>\n",
              "      <td>2020-08-09 17:59:38.164</td>\n",
              "      <td>3375</td>\n",
              "      <td>509</td>\n",
              "    </tr>\n",
              "  </tbody>\n",
              "</table>\n",
              "</div>\n",
              "      <button class=\"colab-df-convert\" onclick=\"convertToInteractive('df-566c0340-8ccf-4796-9b09-d093723d3afb')\"\n",
              "              title=\"Convert this dataframe to an interactive table.\"\n",
              "              style=\"display:none;\">\n",
              "        \n",
              "  <svg xmlns=\"http://www.w3.org/2000/svg\" height=\"24px\"viewBox=\"0 0 24 24\"\n",
              "       width=\"24px\">\n",
              "    <path d=\"M0 0h24v24H0V0z\" fill=\"none\"/>\n",
              "    <path d=\"M18.56 5.44l.94 2.06.94-2.06 2.06-.94-2.06-.94-.94-2.06-.94 2.06-2.06.94zm-11 1L8.5 8.5l.94-2.06 2.06-.94-2.06-.94L8.5 2.5l-.94 2.06-2.06.94zm10 10l.94 2.06.94-2.06 2.06-.94-2.06-.94-.94-2.06-.94 2.06-2.06.94z\"/><path d=\"M17.41 7.96l-1.37-1.37c-.4-.4-.92-.59-1.43-.59-.52 0-1.04.2-1.43.59L10.3 9.45l-7.72 7.72c-.78.78-.78 2.05 0 2.83L4 21.41c.39.39.9.59 1.41.59.51 0 1.02-.2 1.41-.59l7.78-7.78 2.81-2.81c.8-.78.8-2.07 0-2.86zM5.41 20L4 18.59l7.72-7.72 1.47 1.35L5.41 20z\"/>\n",
              "  </svg>\n",
              "      </button>\n",
              "      \n",
              "  <style>\n",
              "    .colab-df-container {\n",
              "      display:flex;\n",
              "      flex-wrap:wrap;\n",
              "      gap: 12px;\n",
              "    }\n",
              "\n",
              "    .colab-df-convert {\n",
              "      background-color: #E8F0FE;\n",
              "      border: none;\n",
              "      border-radius: 50%;\n",
              "      cursor: pointer;\n",
              "      display: none;\n",
              "      fill: #1967D2;\n",
              "      height: 32px;\n",
              "      padding: 0 0 0 0;\n",
              "      width: 32px;\n",
              "    }\n",
              "\n",
              "    .colab-df-convert:hover {\n",
              "      background-color: #E2EBFA;\n",
              "      box-shadow: 0px 1px 2px rgba(60, 64, 67, 0.3), 0px 1px 3px 1px rgba(60, 64, 67, 0.15);\n",
              "      fill: #174EA6;\n",
              "    }\n",
              "\n",
              "    [theme=dark] .colab-df-convert {\n",
              "      background-color: #3B4455;\n",
              "      fill: #D2E3FC;\n",
              "    }\n",
              "\n",
              "    [theme=dark] .colab-df-convert:hover {\n",
              "      background-color: #434B5C;\n",
              "      box-shadow: 0px 1px 3px 1px rgba(0, 0, 0, 0.15);\n",
              "      filter: drop-shadow(0px 1px 2px rgba(0, 0, 0, 0.3));\n",
              "      fill: #FFFFFF;\n",
              "    }\n",
              "  </style>\n",
              "\n",
              "      <script>\n",
              "        const buttonEl =\n",
              "          document.querySelector('#df-566c0340-8ccf-4796-9b09-d093723d3afb button.colab-df-convert');\n",
              "        buttonEl.style.display =\n",
              "          google.colab.kernel.accessAllowed ? 'block' : 'none';\n",
              "\n",
              "        async function convertToInteractive(key) {\n",
              "          const element = document.querySelector('#df-566c0340-8ccf-4796-9b09-d093723d3afb');\n",
              "          const dataTable =\n",
              "            await google.colab.kernel.invokeFunction('convertToInteractive',\n",
              "                                                     [key], {});\n",
              "          if (!dataTable) return;\n",
              "\n",
              "          const docLinkHtml = 'Like what you see? Visit the ' +\n",
              "            '<a target=\"_blank\" href=https://colab.research.google.com/notebooks/data_table.ipynb>data table notebook</a>'\n",
              "            + ' to learn more about interactive tables.';\n",
              "          element.innerHTML = '';\n",
              "          dataTable['output_type'] = 'display_data';\n",
              "          await google.colab.output.renderOutput(dataTable, element);\n",
              "          const docLink = document.createElement('div');\n",
              "          docLink.innerHTML = docLinkHtml;\n",
              "          element.appendChild(docLink);\n",
              "        }\n",
              "      </script>\n",
              "    </div>\n",
              "  </div>\n",
              "  "
            ]
          },
          "metadata": {},
          "execution_count": 31
        }
      ]
    },
    {
      "cell_type": "markdown",
      "source": [
        "As we can see, there are 406114 trips where start station and end station of previous trip is different. As of now we can assume that, this bikes are relocated by Ciki bike crew, There might be less demand at this end station<br><br>\n",
        "We will filter out records where we found this issue, and we will calculate idle time by difference of new start time and previous end time"
      ],
      "metadata": {
        "id": "SdaPj7c97Zch"
      }
    },
    {
      "cell_type": "code",
      "source": [
        "# diff of two times in minute\n",
        "df_trip['idletime'] =(df_trip['starttime'] - df_trip['stoptime'].shift(1)).astype('timedelta64[m]')\n",
        "\n",
        "# check if current bike and previous bike was same, if not we wont use this trip\n",
        "df_trip['bike_same'] = np.where((df_trip['bikeid'] == df_trip['bikeid'].shift(1)),1,0)\n",
        "\n",
        "# change Flag to False if station are diff\n",
        "df_trip['flag'] = df_trip['start station id'] == df_trip['end station id'].shift(1)\n",
        "df_trip"
      ],
      "metadata": {
        "colab": {
          "base_uri": "https://localhost:8080/",
          "height": 424
        },
        "id": "YEKC6bPNd7tf",
        "outputId": "7e756760-b3f1-4b7e-e6b8-3576eb03427f"
      },
      "execution_count": null,
      "outputs": [
        {
          "output_type": "execute_result",
          "data": {
            "text/plain": [
              "          bikeid               starttime                stoptime  \\\n",
              "17349386   14529 2020-06-15 08:09:24.515 2020-06-15 08:27:41.751   \n",
              "17352731   14529 2020-06-15 09:28:06.218 2020-06-15 09:35:17.712   \n",
              "17353448   14529 2020-06-15 09:45:45.107 2020-06-15 09:57:42.830   \n",
              "17358852   14529 2020-06-15 12:06:48.352 2020-06-15 12:35:35.099   \n",
              "17363293   14529 2020-06-15 13:30:04.811 2020-06-15 14:50:07.471   \n",
              "...          ...                     ...                     ...   \n",
              "19308173   50106 2020-12-24 15:18:43.080 2020-12-24 15:31:39.487   \n",
              "19309208   50106 2020-12-24 15:36:59.379 2020-12-24 15:51:23.556   \n",
              "19312575   50106 2020-12-24 17:06:49.149 2020-12-24 17:13:57.996   \n",
              "19312894   50106 2020-12-24 17:17:11.849 2020-12-24 17:21:10.699   \n",
              "19130447   50107 2020-12-18 10:27:38.336 2020-12-18 10:38:46.732   \n",
              "\n",
              "          start station id  end station id  idletime  bike_same   flag  \n",
              "17349386               285             168       NaN          0  False  \n",
              "17352731               168             238      60.0          1   True  \n",
              "17353448               238             224      10.0          1   True  \n",
              "17358852               224            3783     129.0          1   True  \n",
              "17363293              3783             346      54.0          1   True  \n",
              "...                    ...             ...       ...        ...    ...  \n",
              "19308173               434            3812    4503.0          1   True  \n",
              "19309208              3812            3799       5.0          1   True  \n",
              "19312575              3799             435      75.0          1   True  \n",
              "19312894               435             470       3.0          1   True  \n",
              "19130447               161             394   -9054.0          0  False  \n",
              "\n",
              "[19506857 rows x 8 columns]"
            ],
            "text/html": [
              "\n",
              "  <div id=\"df-865a8f14-3b2a-4e18-b5d7-f13cb7e1e67b\">\n",
              "    <div class=\"colab-df-container\">\n",
              "      <div>\n",
              "<style scoped>\n",
              "    .dataframe tbody tr th:only-of-type {\n",
              "        vertical-align: middle;\n",
              "    }\n",
              "\n",
              "    .dataframe tbody tr th {\n",
              "        vertical-align: top;\n",
              "    }\n",
              "\n",
              "    .dataframe thead th {\n",
              "        text-align: right;\n",
              "    }\n",
              "</style>\n",
              "<table border=\"1\" class=\"dataframe\">\n",
              "  <thead>\n",
              "    <tr style=\"text-align: right;\">\n",
              "      <th></th>\n",
              "      <th>bikeid</th>\n",
              "      <th>starttime</th>\n",
              "      <th>stoptime</th>\n",
              "      <th>start station id</th>\n",
              "      <th>end station id</th>\n",
              "      <th>idletime</th>\n",
              "      <th>bike_same</th>\n",
              "      <th>flag</th>\n",
              "    </tr>\n",
              "  </thead>\n",
              "  <tbody>\n",
              "    <tr>\n",
              "      <th>17349386</th>\n",
              "      <td>14529</td>\n",
              "      <td>2020-06-15 08:09:24.515</td>\n",
              "      <td>2020-06-15 08:27:41.751</td>\n",
              "      <td>285</td>\n",
              "      <td>168</td>\n",
              "      <td>NaN</td>\n",
              "      <td>0</td>\n",
              "      <td>False</td>\n",
              "    </tr>\n",
              "    <tr>\n",
              "      <th>17352731</th>\n",
              "      <td>14529</td>\n",
              "      <td>2020-06-15 09:28:06.218</td>\n",
              "      <td>2020-06-15 09:35:17.712</td>\n",
              "      <td>168</td>\n",
              "      <td>238</td>\n",
              "      <td>60.0</td>\n",
              "      <td>1</td>\n",
              "      <td>True</td>\n",
              "    </tr>\n",
              "    <tr>\n",
              "      <th>17353448</th>\n",
              "      <td>14529</td>\n",
              "      <td>2020-06-15 09:45:45.107</td>\n",
              "      <td>2020-06-15 09:57:42.830</td>\n",
              "      <td>238</td>\n",
              "      <td>224</td>\n",
              "      <td>10.0</td>\n",
              "      <td>1</td>\n",
              "      <td>True</td>\n",
              "    </tr>\n",
              "    <tr>\n",
              "      <th>17358852</th>\n",
              "      <td>14529</td>\n",
              "      <td>2020-06-15 12:06:48.352</td>\n",
              "      <td>2020-06-15 12:35:35.099</td>\n",
              "      <td>224</td>\n",
              "      <td>3783</td>\n",
              "      <td>129.0</td>\n",
              "      <td>1</td>\n",
              "      <td>True</td>\n",
              "    </tr>\n",
              "    <tr>\n",
              "      <th>17363293</th>\n",
              "      <td>14529</td>\n",
              "      <td>2020-06-15 13:30:04.811</td>\n",
              "      <td>2020-06-15 14:50:07.471</td>\n",
              "      <td>3783</td>\n",
              "      <td>346</td>\n",
              "      <td>54.0</td>\n",
              "      <td>1</td>\n",
              "      <td>True</td>\n",
              "    </tr>\n",
              "    <tr>\n",
              "      <th>...</th>\n",
              "      <td>...</td>\n",
              "      <td>...</td>\n",
              "      <td>...</td>\n",
              "      <td>...</td>\n",
              "      <td>...</td>\n",
              "      <td>...</td>\n",
              "      <td>...</td>\n",
              "      <td>...</td>\n",
              "    </tr>\n",
              "    <tr>\n",
              "      <th>19308173</th>\n",
              "      <td>50106</td>\n",
              "      <td>2020-12-24 15:18:43.080</td>\n",
              "      <td>2020-12-24 15:31:39.487</td>\n",
              "      <td>434</td>\n",
              "      <td>3812</td>\n",
              "      <td>4503.0</td>\n",
              "      <td>1</td>\n",
              "      <td>True</td>\n",
              "    </tr>\n",
              "    <tr>\n",
              "      <th>19309208</th>\n",
              "      <td>50106</td>\n",
              "      <td>2020-12-24 15:36:59.379</td>\n",
              "      <td>2020-12-24 15:51:23.556</td>\n",
              "      <td>3812</td>\n",
              "      <td>3799</td>\n",
              "      <td>5.0</td>\n",
              "      <td>1</td>\n",
              "      <td>True</td>\n",
              "    </tr>\n",
              "    <tr>\n",
              "      <th>19312575</th>\n",
              "      <td>50106</td>\n",
              "      <td>2020-12-24 17:06:49.149</td>\n",
              "      <td>2020-12-24 17:13:57.996</td>\n",
              "      <td>3799</td>\n",
              "      <td>435</td>\n",
              "      <td>75.0</td>\n",
              "      <td>1</td>\n",
              "      <td>True</td>\n",
              "    </tr>\n",
              "    <tr>\n",
              "      <th>19312894</th>\n",
              "      <td>50106</td>\n",
              "      <td>2020-12-24 17:17:11.849</td>\n",
              "      <td>2020-12-24 17:21:10.699</td>\n",
              "      <td>435</td>\n",
              "      <td>470</td>\n",
              "      <td>3.0</td>\n",
              "      <td>1</td>\n",
              "      <td>True</td>\n",
              "    </tr>\n",
              "    <tr>\n",
              "      <th>19130447</th>\n",
              "      <td>50107</td>\n",
              "      <td>2020-12-18 10:27:38.336</td>\n",
              "      <td>2020-12-18 10:38:46.732</td>\n",
              "      <td>161</td>\n",
              "      <td>394</td>\n",
              "      <td>-9054.0</td>\n",
              "      <td>0</td>\n",
              "      <td>False</td>\n",
              "    </tr>\n",
              "  </tbody>\n",
              "</table>\n",
              "<p>19506857 rows × 8 columns</p>\n",
              "</div>\n",
              "      <button class=\"colab-df-convert\" onclick=\"convertToInteractive('df-865a8f14-3b2a-4e18-b5d7-f13cb7e1e67b')\"\n",
              "              title=\"Convert this dataframe to an interactive table.\"\n",
              "              style=\"display:none;\">\n",
              "        \n",
              "  <svg xmlns=\"http://www.w3.org/2000/svg\" height=\"24px\"viewBox=\"0 0 24 24\"\n",
              "       width=\"24px\">\n",
              "    <path d=\"M0 0h24v24H0V0z\" fill=\"none\"/>\n",
              "    <path d=\"M18.56 5.44l.94 2.06.94-2.06 2.06-.94-2.06-.94-.94-2.06-.94 2.06-2.06.94zm-11 1L8.5 8.5l.94-2.06 2.06-.94-2.06-.94L8.5 2.5l-.94 2.06-2.06.94zm10 10l.94 2.06.94-2.06 2.06-.94-2.06-.94-.94-2.06-.94 2.06-2.06.94z\"/><path d=\"M17.41 7.96l-1.37-1.37c-.4-.4-.92-.59-1.43-.59-.52 0-1.04.2-1.43.59L10.3 9.45l-7.72 7.72c-.78.78-.78 2.05 0 2.83L4 21.41c.39.39.9.59 1.41.59.51 0 1.02-.2 1.41-.59l7.78-7.78 2.81-2.81c.8-.78.8-2.07 0-2.86zM5.41 20L4 18.59l7.72-7.72 1.47 1.35L5.41 20z\"/>\n",
              "  </svg>\n",
              "      </button>\n",
              "      \n",
              "  <style>\n",
              "    .colab-df-container {\n",
              "      display:flex;\n",
              "      flex-wrap:wrap;\n",
              "      gap: 12px;\n",
              "    }\n",
              "\n",
              "    .colab-df-convert {\n",
              "      background-color: #E8F0FE;\n",
              "      border: none;\n",
              "      border-radius: 50%;\n",
              "      cursor: pointer;\n",
              "      display: none;\n",
              "      fill: #1967D2;\n",
              "      height: 32px;\n",
              "      padding: 0 0 0 0;\n",
              "      width: 32px;\n",
              "    }\n",
              "\n",
              "    .colab-df-convert:hover {\n",
              "      background-color: #E2EBFA;\n",
              "      box-shadow: 0px 1px 2px rgba(60, 64, 67, 0.3), 0px 1px 3px 1px rgba(60, 64, 67, 0.15);\n",
              "      fill: #174EA6;\n",
              "    }\n",
              "\n",
              "    [theme=dark] .colab-df-convert {\n",
              "      background-color: #3B4455;\n",
              "      fill: #D2E3FC;\n",
              "    }\n",
              "\n",
              "    [theme=dark] .colab-df-convert:hover {\n",
              "      background-color: #434B5C;\n",
              "      box-shadow: 0px 1px 3px 1px rgba(0, 0, 0, 0.15);\n",
              "      filter: drop-shadow(0px 1px 2px rgba(0, 0, 0, 0.3));\n",
              "      fill: #FFFFFF;\n",
              "    }\n",
              "  </style>\n",
              "\n",
              "      <script>\n",
              "        const buttonEl =\n",
              "          document.querySelector('#df-865a8f14-3b2a-4e18-b5d7-f13cb7e1e67b button.colab-df-convert');\n",
              "        buttonEl.style.display =\n",
              "          google.colab.kernel.accessAllowed ? 'block' : 'none';\n",
              "\n",
              "        async function convertToInteractive(key) {\n",
              "          const element = document.querySelector('#df-865a8f14-3b2a-4e18-b5d7-f13cb7e1e67b');\n",
              "          const dataTable =\n",
              "            await google.colab.kernel.invokeFunction('convertToInteractive',\n",
              "                                                     [key], {});\n",
              "          if (!dataTable) return;\n",
              "\n",
              "          const docLinkHtml = 'Like what you see? Visit the ' +\n",
              "            '<a target=\"_blank\" href=https://colab.research.google.com/notebooks/data_table.ipynb>data table notebook</a>'\n",
              "            + ' to learn more about interactive tables.';\n",
              "          element.innerHTML = '';\n",
              "          dataTable['output_type'] = 'display_data';\n",
              "          await google.colab.output.renderOutput(dataTable, element);\n",
              "          const docLink = document.createElement('div');\n",
              "          docLink.innerHTML = docLinkHtml;\n",
              "          element.appendChild(docLink);\n",
              "        }\n",
              "      </script>\n",
              "    </div>\n",
              "  </div>\n",
              "  "
            ]
          },
          "metadata": {},
          "execution_count": 32
        }
      ]
    },
    {
      "cell_type": "code",
      "source": [
        "# Filtering data\n",
        "df_trip = df_trip[df_trip['bike_same']==1]\n",
        "df_trip = df_trip[df_trip['flag']==True]"
      ],
      "metadata": {
        "id": "AJmP6J7XrvfW"
      },
      "execution_count": null,
      "outputs": []
    },
    {
      "cell_type": "code",
      "source": [
        "df_trip.tail()"
      ],
      "metadata": {
        "id": "tJVJtojCq43j",
        "colab": {
          "base_uri": "https://localhost:8080/",
          "height": 206
        },
        "outputId": "dc3e00e5-24d6-4c30-d2b7-14eef89619c1"
      },
      "execution_count": null,
      "outputs": [
        {
          "output_type": "execute_result",
          "data": {
            "text/plain": [
              "          bikeid               starttime                stoptime  \\\n",
              "19184027   50106 2020-12-21 11:45:28.971 2020-12-21 12:15:21.980   \n",
              "19308173   50106 2020-12-24 15:18:43.080 2020-12-24 15:31:39.487   \n",
              "19309208   50106 2020-12-24 15:36:59.379 2020-12-24 15:51:23.556   \n",
              "19312575   50106 2020-12-24 17:06:49.149 2020-12-24 17:13:57.996   \n",
              "19312894   50106 2020-12-24 17:17:11.849 2020-12-24 17:21:10.699   \n",
              "\n",
              "          start station id  end station id  idletime  bike_same  flag  \n",
              "19184027              3283             434       9.0          1  True  \n",
              "19308173               434            3812    4503.0          1  True  \n",
              "19309208              3812            3799       5.0          1  True  \n",
              "19312575              3799             435      75.0          1  True  \n",
              "19312894               435             470       3.0          1  True  "
            ],
            "text/html": [
              "\n",
              "  <div id=\"df-508e13ac-f09b-4c61-8721-488ff1e750f1\">\n",
              "    <div class=\"colab-df-container\">\n",
              "      <div>\n",
              "<style scoped>\n",
              "    .dataframe tbody tr th:only-of-type {\n",
              "        vertical-align: middle;\n",
              "    }\n",
              "\n",
              "    .dataframe tbody tr th {\n",
              "        vertical-align: top;\n",
              "    }\n",
              "\n",
              "    .dataframe thead th {\n",
              "        text-align: right;\n",
              "    }\n",
              "</style>\n",
              "<table border=\"1\" class=\"dataframe\">\n",
              "  <thead>\n",
              "    <tr style=\"text-align: right;\">\n",
              "      <th></th>\n",
              "      <th>bikeid</th>\n",
              "      <th>starttime</th>\n",
              "      <th>stoptime</th>\n",
              "      <th>start station id</th>\n",
              "      <th>end station id</th>\n",
              "      <th>idletime</th>\n",
              "      <th>bike_same</th>\n",
              "      <th>flag</th>\n",
              "    </tr>\n",
              "  </thead>\n",
              "  <tbody>\n",
              "    <tr>\n",
              "      <th>19184027</th>\n",
              "      <td>50106</td>\n",
              "      <td>2020-12-21 11:45:28.971</td>\n",
              "      <td>2020-12-21 12:15:21.980</td>\n",
              "      <td>3283</td>\n",
              "      <td>434</td>\n",
              "      <td>9.0</td>\n",
              "      <td>1</td>\n",
              "      <td>True</td>\n",
              "    </tr>\n",
              "    <tr>\n",
              "      <th>19308173</th>\n",
              "      <td>50106</td>\n",
              "      <td>2020-12-24 15:18:43.080</td>\n",
              "      <td>2020-12-24 15:31:39.487</td>\n",
              "      <td>434</td>\n",
              "      <td>3812</td>\n",
              "      <td>4503.0</td>\n",
              "      <td>1</td>\n",
              "      <td>True</td>\n",
              "    </tr>\n",
              "    <tr>\n",
              "      <th>19309208</th>\n",
              "      <td>50106</td>\n",
              "      <td>2020-12-24 15:36:59.379</td>\n",
              "      <td>2020-12-24 15:51:23.556</td>\n",
              "      <td>3812</td>\n",
              "      <td>3799</td>\n",
              "      <td>5.0</td>\n",
              "      <td>1</td>\n",
              "      <td>True</td>\n",
              "    </tr>\n",
              "    <tr>\n",
              "      <th>19312575</th>\n",
              "      <td>50106</td>\n",
              "      <td>2020-12-24 17:06:49.149</td>\n",
              "      <td>2020-12-24 17:13:57.996</td>\n",
              "      <td>3799</td>\n",
              "      <td>435</td>\n",
              "      <td>75.0</td>\n",
              "      <td>1</td>\n",
              "      <td>True</td>\n",
              "    </tr>\n",
              "    <tr>\n",
              "      <th>19312894</th>\n",
              "      <td>50106</td>\n",
              "      <td>2020-12-24 17:17:11.849</td>\n",
              "      <td>2020-12-24 17:21:10.699</td>\n",
              "      <td>435</td>\n",
              "      <td>470</td>\n",
              "      <td>3.0</td>\n",
              "      <td>1</td>\n",
              "      <td>True</td>\n",
              "    </tr>\n",
              "  </tbody>\n",
              "</table>\n",
              "</div>\n",
              "      <button class=\"colab-df-convert\" onclick=\"convertToInteractive('df-508e13ac-f09b-4c61-8721-488ff1e750f1')\"\n",
              "              title=\"Convert this dataframe to an interactive table.\"\n",
              "              style=\"display:none;\">\n",
              "        \n",
              "  <svg xmlns=\"http://www.w3.org/2000/svg\" height=\"24px\"viewBox=\"0 0 24 24\"\n",
              "       width=\"24px\">\n",
              "    <path d=\"M0 0h24v24H0V0z\" fill=\"none\"/>\n",
              "    <path d=\"M18.56 5.44l.94 2.06.94-2.06 2.06-.94-2.06-.94-.94-2.06-.94 2.06-2.06.94zm-11 1L8.5 8.5l.94-2.06 2.06-.94-2.06-.94L8.5 2.5l-.94 2.06-2.06.94zm10 10l.94 2.06.94-2.06 2.06-.94-2.06-.94-.94-2.06-.94 2.06-2.06.94z\"/><path d=\"M17.41 7.96l-1.37-1.37c-.4-.4-.92-.59-1.43-.59-.52 0-1.04.2-1.43.59L10.3 9.45l-7.72 7.72c-.78.78-.78 2.05 0 2.83L4 21.41c.39.39.9.59 1.41.59.51 0 1.02-.2 1.41-.59l7.78-7.78 2.81-2.81c.8-.78.8-2.07 0-2.86zM5.41 20L4 18.59l7.72-7.72 1.47 1.35L5.41 20z\"/>\n",
              "  </svg>\n",
              "      </button>\n",
              "      \n",
              "  <style>\n",
              "    .colab-df-container {\n",
              "      display:flex;\n",
              "      flex-wrap:wrap;\n",
              "      gap: 12px;\n",
              "    }\n",
              "\n",
              "    .colab-df-convert {\n",
              "      background-color: #E8F0FE;\n",
              "      border: none;\n",
              "      border-radius: 50%;\n",
              "      cursor: pointer;\n",
              "      display: none;\n",
              "      fill: #1967D2;\n",
              "      height: 32px;\n",
              "      padding: 0 0 0 0;\n",
              "      width: 32px;\n",
              "    }\n",
              "\n",
              "    .colab-df-convert:hover {\n",
              "      background-color: #E2EBFA;\n",
              "      box-shadow: 0px 1px 2px rgba(60, 64, 67, 0.3), 0px 1px 3px 1px rgba(60, 64, 67, 0.15);\n",
              "      fill: #174EA6;\n",
              "    }\n",
              "\n",
              "    [theme=dark] .colab-df-convert {\n",
              "      background-color: #3B4455;\n",
              "      fill: #D2E3FC;\n",
              "    }\n",
              "\n",
              "    [theme=dark] .colab-df-convert:hover {\n",
              "      background-color: #434B5C;\n",
              "      box-shadow: 0px 1px 3px 1px rgba(0, 0, 0, 0.15);\n",
              "      filter: drop-shadow(0px 1px 2px rgba(0, 0, 0, 0.3));\n",
              "      fill: #FFFFFF;\n",
              "    }\n",
              "  </style>\n",
              "\n",
              "      <script>\n",
              "        const buttonEl =\n",
              "          document.querySelector('#df-508e13ac-f09b-4c61-8721-488ff1e750f1 button.colab-df-convert');\n",
              "        buttonEl.style.display =\n",
              "          google.colab.kernel.accessAllowed ? 'block' : 'none';\n",
              "\n",
              "        async function convertToInteractive(key) {\n",
              "          const element = document.querySelector('#df-508e13ac-f09b-4c61-8721-488ff1e750f1');\n",
              "          const dataTable =\n",
              "            await google.colab.kernel.invokeFunction('convertToInteractive',\n",
              "                                                     [key], {});\n",
              "          if (!dataTable) return;\n",
              "\n",
              "          const docLinkHtml = 'Like what you see? Visit the ' +\n",
              "            '<a target=\"_blank\" href=https://colab.research.google.com/notebooks/data_table.ipynb>data table notebook</a>'\n",
              "            + ' to learn more about interactive tables.';\n",
              "          element.innerHTML = '';\n",
              "          dataTable['output_type'] = 'display_data';\n",
              "          await google.colab.output.renderOutput(dataTable, element);\n",
              "          const docLink = document.createElement('div');\n",
              "          docLink.innerHTML = docLinkHtml;\n",
              "          element.appendChild(docLink);\n",
              "        }\n",
              "      </script>\n",
              "    </div>\n",
              "  </div>\n",
              "  "
            ]
          },
          "metadata": {},
          "execution_count": 37
        }
      ]
    },
    {
      "cell_type": "markdown",
      "source": [
        "We can use above data to find out busy and least busy station,<br>\n",
        "__Now we will find Top 10 Busy stations for 15th April 2020__ "
      ],
      "metadata": {
        "id": "vXmtYImnCDHL"
      }
    },
    {
      "cell_type": "code",
      "source": [
        "# filter data by date\n",
        "df_april = df_trip[df_trip['starttime'].dt.strftime('%Y-%m-%d')=='2020-04-15']\n",
        "df_april.head()"
      ],
      "metadata": {
        "colab": {
          "base_uri": "https://localhost:8080/",
          "height": 206
        },
        "id": "V0FknW1S_XL6",
        "outputId": "7c4ceacb-9555-4bdf-ad2c-539bae1d195a"
      },
      "execution_count": null,
      "outputs": [
        {
          "output_type": "execute_result",
          "data": {
            "text/plain": [
              "          bikeid               starttime                stoptime  \\\n",
              "10698483   14531 2020-04-15 18:09:40.747 2020-04-15 19:10:47.921   \n",
              "10682975   14535 2020-04-15 07:13:35.810 2020-04-15 07:29:24.173   \n",
              "10703443   14535 2020-04-15 21:15:39.719 2020-04-15 21:31:51.356   \n",
              "10684003   14537 2020-04-15 08:33:32.731 2020-04-15 08:47:27.533   \n",
              "10693181   14537 2020-04-15 15:57:41.030 2020-04-15 16:14:12.191   \n",
              "\n",
              "          start station id  end station id  idletime  bike_same  flag  \n",
              "10698483               383             383    4332.0          1  True  \n",
              "10682975              3581            3787     848.0          1  True  \n",
              "10703443              3787            3581     826.0          1  True  \n",
              "10684003              3314            3350    1351.0          1  True  \n",
              "10693181              3350             499     430.0          1  True  "
            ],
            "text/html": [
              "\n",
              "  <div id=\"df-f886e4c9-e1c6-45d6-bea9-4b239682143b\">\n",
              "    <div class=\"colab-df-container\">\n",
              "      <div>\n",
              "<style scoped>\n",
              "    .dataframe tbody tr th:only-of-type {\n",
              "        vertical-align: middle;\n",
              "    }\n",
              "\n",
              "    .dataframe tbody tr th {\n",
              "        vertical-align: top;\n",
              "    }\n",
              "\n",
              "    .dataframe thead th {\n",
              "        text-align: right;\n",
              "    }\n",
              "</style>\n",
              "<table border=\"1\" class=\"dataframe\">\n",
              "  <thead>\n",
              "    <tr style=\"text-align: right;\">\n",
              "      <th></th>\n",
              "      <th>bikeid</th>\n",
              "      <th>starttime</th>\n",
              "      <th>stoptime</th>\n",
              "      <th>start station id</th>\n",
              "      <th>end station id</th>\n",
              "      <th>idletime</th>\n",
              "      <th>bike_same</th>\n",
              "      <th>flag</th>\n",
              "    </tr>\n",
              "  </thead>\n",
              "  <tbody>\n",
              "    <tr>\n",
              "      <th>10698483</th>\n",
              "      <td>14531</td>\n",
              "      <td>2020-04-15 18:09:40.747</td>\n",
              "      <td>2020-04-15 19:10:47.921</td>\n",
              "      <td>383</td>\n",
              "      <td>383</td>\n",
              "      <td>4332.0</td>\n",
              "      <td>1</td>\n",
              "      <td>True</td>\n",
              "    </tr>\n",
              "    <tr>\n",
              "      <th>10682975</th>\n",
              "      <td>14535</td>\n",
              "      <td>2020-04-15 07:13:35.810</td>\n",
              "      <td>2020-04-15 07:29:24.173</td>\n",
              "      <td>3581</td>\n",
              "      <td>3787</td>\n",
              "      <td>848.0</td>\n",
              "      <td>1</td>\n",
              "      <td>True</td>\n",
              "    </tr>\n",
              "    <tr>\n",
              "      <th>10703443</th>\n",
              "      <td>14535</td>\n",
              "      <td>2020-04-15 21:15:39.719</td>\n",
              "      <td>2020-04-15 21:31:51.356</td>\n",
              "      <td>3787</td>\n",
              "      <td>3581</td>\n",
              "      <td>826.0</td>\n",
              "      <td>1</td>\n",
              "      <td>True</td>\n",
              "    </tr>\n",
              "    <tr>\n",
              "      <th>10684003</th>\n",
              "      <td>14537</td>\n",
              "      <td>2020-04-15 08:33:32.731</td>\n",
              "      <td>2020-04-15 08:47:27.533</td>\n",
              "      <td>3314</td>\n",
              "      <td>3350</td>\n",
              "      <td>1351.0</td>\n",
              "      <td>1</td>\n",
              "      <td>True</td>\n",
              "    </tr>\n",
              "    <tr>\n",
              "      <th>10693181</th>\n",
              "      <td>14537</td>\n",
              "      <td>2020-04-15 15:57:41.030</td>\n",
              "      <td>2020-04-15 16:14:12.191</td>\n",
              "      <td>3350</td>\n",
              "      <td>499</td>\n",
              "      <td>430.0</td>\n",
              "      <td>1</td>\n",
              "      <td>True</td>\n",
              "    </tr>\n",
              "  </tbody>\n",
              "</table>\n",
              "</div>\n",
              "      <button class=\"colab-df-convert\" onclick=\"convertToInteractive('df-f886e4c9-e1c6-45d6-bea9-4b239682143b')\"\n",
              "              title=\"Convert this dataframe to an interactive table.\"\n",
              "              style=\"display:none;\">\n",
              "        \n",
              "  <svg xmlns=\"http://www.w3.org/2000/svg\" height=\"24px\"viewBox=\"0 0 24 24\"\n",
              "       width=\"24px\">\n",
              "    <path d=\"M0 0h24v24H0V0z\" fill=\"none\"/>\n",
              "    <path d=\"M18.56 5.44l.94 2.06.94-2.06 2.06-.94-2.06-.94-.94-2.06-.94 2.06-2.06.94zm-11 1L8.5 8.5l.94-2.06 2.06-.94-2.06-.94L8.5 2.5l-.94 2.06-2.06.94zm10 10l.94 2.06.94-2.06 2.06-.94-2.06-.94-.94-2.06-.94 2.06-2.06.94z\"/><path d=\"M17.41 7.96l-1.37-1.37c-.4-.4-.92-.59-1.43-.59-.52 0-1.04.2-1.43.59L10.3 9.45l-7.72 7.72c-.78.78-.78 2.05 0 2.83L4 21.41c.39.39.9.59 1.41.59.51 0 1.02-.2 1.41-.59l7.78-7.78 2.81-2.81c.8-.78.8-2.07 0-2.86zM5.41 20L4 18.59l7.72-7.72 1.47 1.35L5.41 20z\"/>\n",
              "  </svg>\n",
              "      </button>\n",
              "      \n",
              "  <style>\n",
              "    .colab-df-container {\n",
              "      display:flex;\n",
              "      flex-wrap:wrap;\n",
              "      gap: 12px;\n",
              "    }\n",
              "\n",
              "    .colab-df-convert {\n",
              "      background-color: #E8F0FE;\n",
              "      border: none;\n",
              "      border-radius: 50%;\n",
              "      cursor: pointer;\n",
              "      display: none;\n",
              "      fill: #1967D2;\n",
              "      height: 32px;\n",
              "      padding: 0 0 0 0;\n",
              "      width: 32px;\n",
              "    }\n",
              "\n",
              "    .colab-df-convert:hover {\n",
              "      background-color: #E2EBFA;\n",
              "      box-shadow: 0px 1px 2px rgba(60, 64, 67, 0.3), 0px 1px 3px 1px rgba(60, 64, 67, 0.15);\n",
              "      fill: #174EA6;\n",
              "    }\n",
              "\n",
              "    [theme=dark] .colab-df-convert {\n",
              "      background-color: #3B4455;\n",
              "      fill: #D2E3FC;\n",
              "    }\n",
              "\n",
              "    [theme=dark] .colab-df-convert:hover {\n",
              "      background-color: #434B5C;\n",
              "      box-shadow: 0px 1px 3px 1px rgba(0, 0, 0, 0.15);\n",
              "      filter: drop-shadow(0px 1px 2px rgba(0, 0, 0, 0.3));\n",
              "      fill: #FFFFFF;\n",
              "    }\n",
              "  </style>\n",
              "\n",
              "      <script>\n",
              "        const buttonEl =\n",
              "          document.querySelector('#df-f886e4c9-e1c6-45d6-bea9-4b239682143b button.colab-df-convert');\n",
              "        buttonEl.style.display =\n",
              "          google.colab.kernel.accessAllowed ? 'block' : 'none';\n",
              "\n",
              "        async function convertToInteractive(key) {\n",
              "          const element = document.querySelector('#df-f886e4c9-e1c6-45d6-bea9-4b239682143b');\n",
              "          const dataTable =\n",
              "            await google.colab.kernel.invokeFunction('convertToInteractive',\n",
              "                                                     [key], {});\n",
              "          if (!dataTable) return;\n",
              "\n",
              "          const docLinkHtml = 'Like what you see? Visit the ' +\n",
              "            '<a target=\"_blank\" href=https://colab.research.google.com/notebooks/data_table.ipynb>data table notebook</a>'\n",
              "            + ' to learn more about interactive tables.';\n",
              "          element.innerHTML = '';\n",
              "          dataTable['output_type'] = 'display_data';\n",
              "          await google.colab.output.renderOutput(dataTable, element);\n",
              "          const docLink = document.createElement('div');\n",
              "          docLink.innerHTML = docLinkHtml;\n",
              "          element.appendChild(docLink);\n",
              "        }\n",
              "      </script>\n",
              "    </div>\n",
              "  </div>\n",
              "  "
            ]
          },
          "metadata": {},
          "execution_count": 36
        }
      ]
    },
    {
      "cell_type": "code",
      "source": [
        "#Groupping data wrt station id\n",
        "df_april_grp = df_april.groupby('start station id').agg(avg_idletime=('idletime','mean')).reset_index()\n",
        "\n",
        "# Joining dataframe to get Station nam ewith station id\n",
        "df_april_grp = df_april_grp.merge(df_stations, how='left',left_on='start station id', right_on='station id').set_index('station name').drop(columns=['start station id','station id'])"
      ],
      "metadata": {
        "id": "rSqmMtoqDPyd"
      },
      "execution_count": null,
      "outputs": []
    },
    {
      "cell_type": "code",
      "source": [
        "# plotting Graph\n",
        "temp = df_april_grp.nsmallest(10, 'avg_idletime')\n",
        "plt.figure(figsize=[10,7])\n",
        "ax = sns.barplot(data=temp ,x='avg_idletime' ,y=temp.index, palette=\"viridis\", orient='h')\n",
        "plt.title('Top 10 Stations by least Idle time of Bike');"
      ],
      "metadata": {
        "colab": {
          "base_uri": "https://localhost:8080/",
          "height": 464
        },
        "id": "7BXdGvPZEOaI",
        "outputId": "4736ffc6-4f92-433a-b44c-9d26db2703f2"
      },
      "execution_count": null,
      "outputs": [
        {
          "output_type": "display_data",
          "data": {
            "text/plain": [
              "<Figure size 720x504 with 1 Axes>"
            ],
            "image/png": "[encoded data removed]"
          },
          "metadata": {
            "needs_background": "light"
          }
        }
      ]
    },
    {
      "cell_type": "markdown",
      "source": [
        "## Conclusion:\n",
        "\n",
        "* Datasets are huge in size, we can limit size by loading required columns in proper data types.\n",
        "* Co-oridinates can be useful for plotting Map Visualization.\n",
        "* Age column has values in range ~15 to ~140, And We can consider above 80 values as Outliers\n",
        "<br>\n",
        "\n",
        "* Total trips in year 2020: 19506857, in which __77% users were Subscribers__\n",
        "* We can see __Downtrend__ in Usage of bikes __after 15th March 2020__, assuming this was effect of Covid-19 Lokdown. But immediately after __end of March__, We can see __Uptrend__ in Usage of Bike.\n",
        "* People were using Bikes on Saturday more than anyother days in week.\n",
        "* We observed some downtrends on Holidays.\n",
        "* As we observed outliers in trip duration, We assumed that this was happed due to malfunction in Station, because of which Ride didn't ended properly.\n",
        "* We Assumed Ride duration above 60 min as malfunction, and found top 10 station where we need to check and monitor issue.\n",
        "* By applying bike's idle time logic, we discovered top 10 busy stations, And also found some stations from where Bike got transferred."
      ],
      "metadata": {
        "id": "0wK8Wi8UOQC8"
      }
    },
    {
      "cell_type": "markdown",
      "source": [
        "## Final Data:\n",
        "We will create new dataframe with Daily trip count and weekday information, and also We will add new feature to indicate Holidays"
      ],
      "metadata": {
        "id": "cVrZWrOXkgn2"
      }
    },
    {
      "cell_type": "code",
      "source": [
        "df_final = df_weekdata.rename(columns={'starttime':'Date', 'trips':'Trips', 'weekday':'Weekday'})\n",
        "df_final['Holiday'] = [1 if d in holidays.US() else 0 for d in df_weekdata[\"starttime\"]]\n",
        "print(f\"Total columns {df_final.shape[1]}\\nTota Rows: {df_final.shape[0]}\")\n",
        "display(df_final.head())"
      ],
      "metadata": {
        "colab": {
          "base_uri": "https://localhost:8080/",
          "height": 243
        },
        "id": "rCMkY8D8jGPU",
        "outputId": "b35bafe0-4128-43a4-bd35-480f34cbda5c"
      },
      "execution_count": null,
      "outputs": [
        {
          "output_type": "stream",
          "name": "stdout",
          "text": [
            "Total columns 4\n",
            "Tota Rows: 366\n"
          ]
        },
        {
          "output_type": "display_data",
          "data": {
            "text/plain": [
              "        Date  Trips    Weekday  Holiday\n",
              "0 2020-01-01  18114  Wednesday        1\n",
              "1 2020-01-02  41556   Thursday        0\n",
              "2 2020-01-03  31873     Friday        0\n",
              "3 2020-01-04  29436   Saturday        0\n",
              "4 2020-01-05  27589     Sunday        0"
            ],
            "text/html": [
              "\n",
              "  <div id=\"df-48ca78e3-5257-4c97-b285-64e0d832e306\">\n",
              "    <div class=\"colab-df-container\">\n",
              "      <div>\n",
              "<style scoped>\n",
              "    .dataframe tbody tr th:only-of-type {\n",
              "        vertical-align: middle;\n",
              "    }\n",
              "\n",
              "    .dataframe tbody tr th {\n",
              "        vertical-align: top;\n",
              "    }\n",
              "\n",
              "    .dataframe thead th {\n",
              "        text-align: right;\n",
              "    }\n",
              "</style>\n",
              "<table border=\"1\" class=\"dataframe\">\n",
              "  <thead>\n",
              "    <tr style=\"text-align: right;\">\n",
              "      <th></th>\n",
              "      <th>Date</th>\n",
              "      <th>Trips</th>\n",
              "      <th>Weekday</th>\n",
              "      <th>Holiday</th>\n",
              "    </tr>\n",
              "  </thead>\n",
              "  <tbody>\n",
              "    <tr>\n",
              "      <th>0</th>\n",
              "      <td>2020-01-01</td>\n",
              "      <td>18114</td>\n",
              "      <td>Wednesday</td>\n",
              "      <td>1</td>\n",
              "    </tr>\n",
              "    <tr>\n",
              "      <th>1</th>\n",
              "      <td>2020-01-02</td>\n",
              "      <td>41556</td>\n",
              "      <td>Thursday</td>\n",
              "      <td>0</td>\n",
              "    </tr>\n",
              "    <tr>\n",
              "      <th>2</th>\n",
              "      <td>2020-01-03</td>\n",
              "      <td>31873</td>\n",
              "      <td>Friday</td>\n",
              "      <td>0</td>\n",
              "    </tr>\n",
              "    <tr>\n",
              "      <th>3</th>\n",
              "      <td>2020-01-04</td>\n",
              "      <td>29436</td>\n",
              "      <td>Saturday</td>\n",
              "      <td>0</td>\n",
              "    </tr>\n",
              "    <tr>\n",
              "      <th>4</th>\n",
              "      <td>2020-01-05</td>\n",
              "      <td>27589</td>\n",
              "      <td>Sunday</td>\n",
              "      <td>0</td>\n",
              "    </tr>\n",
              "  </tbody>\n",
              "</table>\n",
              "</div>\n",
              "      <button class=\"colab-df-convert\" onclick=\"convertToInteractive('df-48ca78e3-5257-4c97-b285-64e0d832e306')\"\n",
              "              title=\"Convert this dataframe to an interactive table.\"\n",
              "              style=\"display:none;\">\n",
              "        \n",
              "  <svg xmlns=\"http://www.w3.org/2000/svg\" height=\"24px\"viewBox=\"0 0 24 24\"\n",
              "       width=\"24px\">\n",
              "    <path d=\"M0 0h24v24H0V0z\" fill=\"none\"/>\n",
              "    <path d=\"M18.56 5.44l.94 2.06.94-2.06 2.06-.94-2.06-.94-.94-2.06-.94 2.06-2.06.94zm-11 1L8.5 8.5l.94-2.06 2.06-.94-2.06-.94L8.5 2.5l-.94 2.06-2.06.94zm10 10l.94 2.06.94-2.06 2.06-.94-2.06-.94-.94-2.06-.94 2.06-2.06.94z\"/><path d=\"M17.41 7.96l-1.37-1.37c-.4-.4-.92-.59-1.43-.59-.52 0-1.04.2-1.43.59L10.3 9.45l-7.72 7.72c-.78.78-.78 2.05 0 2.83L4 21.41c.39.39.9.59 1.41.59.51 0 1.02-.2 1.41-.59l7.78-7.78 2.81-2.81c.8-.78.8-2.07 0-2.86zM5.41 20L4 18.59l7.72-7.72 1.47 1.35L5.41 20z\"/>\n",
              "  </svg>\n",
              "      </button>\n",
              "      \n",
              "  <style>\n",
              "    .colab-df-container {\n",
              "      display:flex;\n",
              "      flex-wrap:wrap;\n",
              "      gap: 12px;\n",
              "    }\n",
              "\n",
              "    .colab-df-convert {\n",
              "      background-color: #E8F0FE;\n",
              "      border: none;\n",
              "      border-radius: 50%;\n",
              "      cursor: pointer;\n",
              "      display: none;\n",
              "      fill: #1967D2;\n",
              "      height: 32px;\n",
              "      padding: 0 0 0 0;\n",
              "      width: 32px;\n",
              "    }\n",
              "\n",
              "    .colab-df-convert:hover {\n",
              "      background-color: #E2EBFA;\n",
              "      box-shadow: 0px 1px 2px rgba(60, 64, 67, 0.3), 0px 1px 3px 1px rgba(60, 64, 67, 0.15);\n",
              "      fill: #174EA6;\n",
              "    }\n",
              "\n",
              "    [theme=dark] .colab-df-convert {\n",
              "      background-color: #3B4455;\n",
              "      fill: #D2E3FC;\n",
              "    }\n",
              "\n",
              "    [theme=dark] .colab-df-convert:hover {\n",
              "      background-color: #434B5C;\n",
              "      box-shadow: 0px 1px 3px 1px rgba(0, 0, 0, 0.15);\n",
              "      filter: drop-shadow(0px 1px 2px rgba(0, 0, 0, 0.3));\n",
              "      fill: #FFFFFF;\n",
              "    }\n",
              "  </style>\n",
              "\n",
              "      <script>\n",
              "        const buttonEl =\n",
              "          document.querySelector('#df-48ca78e3-5257-4c97-b285-64e0d832e306 button.colab-df-convert');\n",
              "        buttonEl.style.display =\n",
              "          google.colab.kernel.accessAllowed ? 'block' : 'none';\n",
              "\n",
              "        async function convertToInteractive(key) {\n",
              "          const element = document.querySelector('#df-48ca78e3-5257-4c97-b285-64e0d832e306');\n",
              "          const dataTable =\n",
              "            await google.colab.kernel.invokeFunction('convertToInteractive',\n",
              "                                                     [key], {});\n",
              "          if (!dataTable) return;\n",
              "\n",
              "          const docLinkHtml = 'Like what you see? Visit the ' +\n",
              "            '<a target=\"_blank\" href=https://colab.research.google.com/notebooks/data_table.ipynb>data table notebook</a>'\n",
              "            + ' to learn more about interactive tables.';\n",
              "          element.innerHTML = '';\n",
              "          dataTable['output_type'] = 'display_data';\n",
              "          await google.colab.output.renderOutput(dataTable, element);\n",
              "          const docLink = document.createElement('div');\n",
              "          docLink.innerHTML = docLinkHtml;\n",
              "          element.appendChild(docLink);\n",
              "        }\n",
              "      </script>\n",
              "    </div>\n",
              "  </div>\n",
              "  "
            ]
          },
          "metadata": {}
        }
      ]
    },
    {
      "cell_type": "code",
      "source": [
        "# saving final data as csv\n",
        "df_final.to_csv('/content/drive/MyDrive/data/CitiBike2020.csv')"
      ],
      "metadata": {
        "id": "33qN93F5sIMl"
      },
      "execution_count": null,
      "outputs": []
    },
    {
      "cell_type": "markdown",
      "source": [
        "## References:\n",
        "* Handling large data in Pandas : [Article_link](https://pythonspeed.com/articles/pandas-load-less-data/)\n",
        "* Python Holidays Library : [Holidays](https://pypi.org/project/holidays/)\n",
        "* Visualization cheatsheet: [link](https://www.data-to-viz.com/)\n",
        "* Analysis by Others: [NYC-Taxi](https://medium.com/analytics-vidhya/exploratory-data-analysis-of-nyc-taxi-trip-duration-dataset-using-python-257fdef2749e) [NYC-Data science academy](https://nycdatascience.com/blog/student-works/embrace-the-new-normal-citi-bike-jersey-city-and-hoboken-data-analysis/)"
      ],
      "metadata": {
        "id": "4kCfmX_p_f4e"
      }
    }
  ]
}